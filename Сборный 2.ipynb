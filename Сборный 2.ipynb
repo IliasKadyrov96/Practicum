{
 "cells": [
  {
   "cell_type": "markdown",
   "metadata": {},
   "source": [
    "# Сборный проект № 2"
   ]
  },
  {
   "cell_type": "markdown",
   "metadata": {},
   "source": [
    "Описание проекта:\n",
    "\n",
    "Вы работаете в стартапе, который продаёт продукты питания. Нужно разобраться, как ведут себя пользователи вашего мобильного приложения. \n",
    "Изучите воронку продаж. Узнайте, как пользователи доходят до покупки. Сколько пользователей доходит до покупки, а сколько — «застревает» на предыдущих шагах? На каких именно?\n",
    "\n",
    "После этого исследуйте результаты A/A/B-эксперимента. Дизайнеры захотели поменять шрифты во всём приложении, а менеджеры испугались, что пользователям будет непривычно. Договорились принять решение по результатам A/A/B-теста. Пользователей разбили на 3 группы: 2 контрольные со старыми шрифтами и одну экспериментальную — с новыми. Выясните, какой шрифт лучше."
   ]
  },
  {
   "cell_type": "markdown",
   "metadata": {},
   "source": [
    "# Описание данных"
   ]
  },
  {
   "cell_type": "markdown",
   "metadata": {},
   "source": [
    "Каждая запись в логе — это действие пользователя, или событие. \n",
    "\n",
    "EventName — название события;\n",
    "\n",
    "DeviceIDHash — уникальный идентификатор пользователя;\n",
    "\n",
    "EventTimestamp — время события;\n",
    "\n",
    "ExpId — номер эксперимента: 246 и 247 — контрольные группы, а 248 — экспериментальная."
   ]
  },
  {
   "cell_type": "markdown",
   "metadata": {},
   "source": [
    "# Проект проходит в несколько шагов:"
   ]
  },
  {
   "cell_type": "markdown",
   "metadata": {},
   "source": [
    "Шаг 1. Откройть файл с данными и изучить общую информацию\n",
    "\n",
    "Шаг 2. Подготовка данных\n",
    "\n",
    "Шаг 3. Изучение и проверка данных\n",
    "\n",
    "Шаг 4. Изучение воронки событий\n",
    "\n",
    "Шаг 5. Изучение результатов эксперимента\n",
    "\n",
    "Вывод"
   ]
  },
  {
   "cell_type": "code",
   "execution_count": 1,
   "metadata": {},
   "outputs": [],
   "source": [
    "import pandas as pd\n",
    "import datetime as dt\n",
    "import numpy as np\n",
    "import matplotlib.pyplot as plt\n",
    "import scipy.stats as stats\n",
    "from plotly import graph_objects as graph\n",
    "import math as mat\n",
    "import warnings\n",
    "pd.set_option('display.max_colwidth', 150)\n",
    "# Сразу импортируем необходимые библиотеки"
   ]
  },
  {
   "cell_type": "markdown",
   "metadata": {},
   "source": [
    "# Шаг 1"
   ]
  },
  {
   "cell_type": "code",
   "execution_count": 2,
   "metadata": {},
   "outputs": [],
   "source": [
    "data = pd.read_csv('/datasets/logs_exp.csv', sep='\\t')"
   ]
  },
  {
   "cell_type": "code",
   "execution_count": 3,
   "metadata": {},
   "outputs": [
    {
     "data": {
      "text/html": [
       "<div>\n",
       "<style scoped>\n",
       "    .dataframe tbody tr th:only-of-type {\n",
       "        vertical-align: middle;\n",
       "    }\n",
       "\n",
       "    .dataframe tbody tr th {\n",
       "        vertical-align: top;\n",
       "    }\n",
       "\n",
       "    .dataframe thead th {\n",
       "        text-align: right;\n",
       "    }\n",
       "</style>\n",
       "<table border=\"1\" class=\"dataframe\">\n",
       "  <thead>\n",
       "    <tr style=\"text-align: right;\">\n",
       "      <th></th>\n",
       "      <th>EventName</th>\n",
       "      <th>DeviceIDHash</th>\n",
       "      <th>EventTimestamp</th>\n",
       "      <th>ExpId</th>\n",
       "    </tr>\n",
       "  </thead>\n",
       "  <tbody>\n",
       "    <tr>\n",
       "      <th>0</th>\n",
       "      <td>MainScreenAppear</td>\n",
       "      <td>4575588528974610257</td>\n",
       "      <td>1564029816</td>\n",
       "      <td>246</td>\n",
       "    </tr>\n",
       "    <tr>\n",
       "      <th>1</th>\n",
       "      <td>MainScreenAppear</td>\n",
       "      <td>7416695313311560658</td>\n",
       "      <td>1564053102</td>\n",
       "      <td>246</td>\n",
       "    </tr>\n",
       "    <tr>\n",
       "      <th>2</th>\n",
       "      <td>PaymentScreenSuccessful</td>\n",
       "      <td>3518123091307005509</td>\n",
       "      <td>1564054127</td>\n",
       "      <td>248</td>\n",
       "    </tr>\n",
       "    <tr>\n",
       "      <th>3</th>\n",
       "      <td>CartScreenAppear</td>\n",
       "      <td>3518123091307005509</td>\n",
       "      <td>1564054127</td>\n",
       "      <td>248</td>\n",
       "    </tr>\n",
       "    <tr>\n",
       "      <th>4</th>\n",
       "      <td>PaymentScreenSuccessful</td>\n",
       "      <td>6217807653094995999</td>\n",
       "      <td>1564055322</td>\n",
       "      <td>248</td>\n",
       "    </tr>\n",
       "  </tbody>\n",
       "</table>\n",
       "</div>"
      ],
      "text/plain": [
       "                 EventName         DeviceIDHash  EventTimestamp  ExpId\n",
       "0         MainScreenAppear  4575588528974610257      1564029816    246\n",
       "1         MainScreenAppear  7416695313311560658      1564053102    246\n",
       "2  PaymentScreenSuccessful  3518123091307005509      1564054127    248\n",
       "3         CartScreenAppear  3518123091307005509      1564054127    248\n",
       "4  PaymentScreenSuccessful  6217807653094995999      1564055322    248"
      ]
     },
     "metadata": {},
     "output_type": "display_data"
    }
   ],
   "source": [
    "display(data.head())"
   ]
  },
  {
   "cell_type": "code",
   "execution_count": 4,
   "metadata": {},
   "outputs": [
    {
     "name": "stdout",
     "output_type": "stream",
     "text": [
      "<class 'pandas.core.frame.DataFrame'>\n",
      "RangeIndex: 244126 entries, 0 to 244125\n",
      "Data columns (total 4 columns):\n",
      " #   Column          Non-Null Count   Dtype \n",
      "---  ------          --------------   ----- \n",
      " 0   EventName       244126 non-null  object\n",
      " 1   DeviceIDHash    244126 non-null  int64 \n",
      " 2   EventTimestamp  244126 non-null  int64 \n",
      " 3   ExpId           244126 non-null  int64 \n",
      "dtypes: int64(3), object(1)\n",
      "memory usage: 7.5+ MB\n"
     ]
    }
   ],
   "source": [
    "data.info()"
   ]
  },
  {
   "cell_type": "markdown",
   "metadata": {},
   "source": [
    "# Шаг 2"
   ]
  },
  {
   "cell_type": "markdown",
   "metadata": {},
   "source": [
    "Переименуем столбцы и приведем к нижнему регистру. "
   ]
  },
  {
   "cell_type": "code",
   "execution_count": 5,
   "metadata": {},
   "outputs": [],
   "source": [
    "data.columns = ['event', 'device_id', 'event_timestamp', 'exp_id']"
   ]
  },
  {
   "cell_type": "code",
   "execution_count": 6,
   "metadata": {},
   "outputs": [
    {
     "name": "stdout",
     "output_type": "stream",
     "text": [
      "Количество дубликатов: 413\n"
     ]
    }
   ],
   "source": [
    "print('Количество дубликатов:', data.duplicated().sum())"
   ]
  },
  {
   "cell_type": "markdown",
   "metadata": {},
   "source": [
    "Удалим дупликаты"
   ]
  },
  {
   "cell_type": "code",
   "execution_count": 7,
   "metadata": {},
   "outputs": [],
   "source": [
    "data = data.drop_duplicates().reset_index(drop=True)"
   ]
  },
  {
   "cell_type": "markdown",
   "metadata": {},
   "source": [
    "Проверим данные на пропуски"
   ]
  },
  {
   "cell_type": "code",
   "execution_count": 8,
   "metadata": {},
   "outputs": [
    {
     "data": {
      "text/plain": [
       "event              0\n",
       "device_id          0\n",
       "event_timestamp    0\n",
       "exp_id             0\n",
       "dtype: int64"
      ]
     },
     "execution_count": 8,
     "metadata": {},
     "output_type": "execute_result"
    }
   ],
   "source": [
    "data.isna().sum()"
   ]
  },
  {
   "cell_type": "markdown",
   "metadata": {},
   "source": [
    "Проверим данные на пользователей вошедшие в несколько групп"
   ]
  },
  {
   "cell_type": "code",
   "execution_count": 9,
   "metadata": {},
   "outputs": [
    {
     "data": {
      "text/plain": [
       "array([], dtype=int64)"
      ]
     },
     "execution_count": 9,
     "metadata": {},
     "output_type": "execute_result"
    }
   ],
   "source": [
    "inter = np.intersect1d(data.query('exp_id == 246')['device_id'].unique(), data.query('exp_id == 247')['device_id'].unique())\n",
    "inter"
   ]
  },
  {
   "cell_type": "code",
   "execution_count": 10,
   "metadata": {},
   "outputs": [
    {
     "data": {
      "text/plain": [
       "array([], dtype=int64)"
      ]
     },
     "execution_count": 10,
     "metadata": {},
     "output_type": "execute_result"
    }
   ],
   "source": [
    "inter = np.intersect1d(data.query('exp_id == 246')['device_id'].unique(), data.query('exp_id == 248')['device_id'].unique())\n",
    "inter"
   ]
  },
  {
   "cell_type": "code",
   "execution_count": 11,
   "metadata": {},
   "outputs": [
    {
     "data": {
      "text/plain": [
       "array([], dtype=int64)"
      ]
     },
     "execution_count": 11,
     "metadata": {},
     "output_type": "execute_result"
    }
   ],
   "source": [
    "inter = np.intersect1d(data.query('exp_id == 247')['device_id'].unique(), data.query('exp_id == 248')['device_id'].unique())\n",
    "inter"
   ]
  },
  {
   "cell_type": "markdown",
   "metadata": {},
   "source": [
    "Создадим столбец с датой"
   ]
  },
  {
   "cell_type": "code",
   "execution_count": 12,
   "metadata": {},
   "outputs": [],
   "source": [
    "data['datetime'] = pd.to_datetime(data['event_timestamp'], unit='s')\n",
    "data['date'] = data['datetime'].dt.date\n",
    "data['date'] = pd.to_datetime(data['date'])"
   ]
  },
  {
   "cell_type": "code",
   "execution_count": 13,
   "metadata": {},
   "outputs": [
    {
     "data": {
      "text/html": [
       "<div>\n",
       "<style scoped>\n",
       "    .dataframe tbody tr th:only-of-type {\n",
       "        vertical-align: middle;\n",
       "    }\n",
       "\n",
       "    .dataframe tbody tr th {\n",
       "        vertical-align: top;\n",
       "    }\n",
       "\n",
       "    .dataframe thead th {\n",
       "        text-align: right;\n",
       "    }\n",
       "</style>\n",
       "<table border=\"1\" class=\"dataframe\">\n",
       "  <thead>\n",
       "    <tr style=\"text-align: right;\">\n",
       "      <th></th>\n",
       "      <th>event</th>\n",
       "      <th>device_id</th>\n",
       "      <th>event_timestamp</th>\n",
       "      <th>exp_id</th>\n",
       "      <th>datetime</th>\n",
       "      <th>date</th>\n",
       "    </tr>\n",
       "  </thead>\n",
       "  <tbody>\n",
       "    <tr>\n",
       "      <th>0</th>\n",
       "      <td>MainScreenAppear</td>\n",
       "      <td>4575588528974610257</td>\n",
       "      <td>1564029816</td>\n",
       "      <td>246</td>\n",
       "      <td>2019-07-25 04:43:36</td>\n",
       "      <td>2019-07-25</td>\n",
       "    </tr>\n",
       "    <tr>\n",
       "      <th>1</th>\n",
       "      <td>MainScreenAppear</td>\n",
       "      <td>7416695313311560658</td>\n",
       "      <td>1564053102</td>\n",
       "      <td>246</td>\n",
       "      <td>2019-07-25 11:11:42</td>\n",
       "      <td>2019-07-25</td>\n",
       "    </tr>\n",
       "    <tr>\n",
       "      <th>2</th>\n",
       "      <td>PaymentScreenSuccessful</td>\n",
       "      <td>3518123091307005509</td>\n",
       "      <td>1564054127</td>\n",
       "      <td>248</td>\n",
       "      <td>2019-07-25 11:28:47</td>\n",
       "      <td>2019-07-25</td>\n",
       "    </tr>\n",
       "    <tr>\n",
       "      <th>3</th>\n",
       "      <td>CartScreenAppear</td>\n",
       "      <td>3518123091307005509</td>\n",
       "      <td>1564054127</td>\n",
       "      <td>248</td>\n",
       "      <td>2019-07-25 11:28:47</td>\n",
       "      <td>2019-07-25</td>\n",
       "    </tr>\n",
       "    <tr>\n",
       "      <th>4</th>\n",
       "      <td>PaymentScreenSuccessful</td>\n",
       "      <td>6217807653094995999</td>\n",
       "      <td>1564055322</td>\n",
       "      <td>248</td>\n",
       "      <td>2019-07-25 11:48:42</td>\n",
       "      <td>2019-07-25</td>\n",
       "    </tr>\n",
       "  </tbody>\n",
       "</table>\n",
       "</div>"
      ],
      "text/plain": [
       "                     event            device_id  event_timestamp  exp_id  \\\n",
       "0         MainScreenAppear  4575588528974610257       1564029816     246   \n",
       "1         MainScreenAppear  7416695313311560658       1564053102     246   \n",
       "2  PaymentScreenSuccessful  3518123091307005509       1564054127     248   \n",
       "3         CartScreenAppear  3518123091307005509       1564054127     248   \n",
       "4  PaymentScreenSuccessful  6217807653094995999       1564055322     248   \n",
       "\n",
       "             datetime       date  \n",
       "0 2019-07-25 04:43:36 2019-07-25  \n",
       "1 2019-07-25 11:11:42 2019-07-25  \n",
       "2 2019-07-25 11:28:47 2019-07-25  \n",
       "3 2019-07-25 11:28:47 2019-07-25  \n",
       "4 2019-07-25 11:48:42 2019-07-25  "
      ]
     },
     "metadata": {},
     "output_type": "display_data"
    }
   ],
   "source": [
    "display(data.head())"
   ]
  },
  {
   "cell_type": "code",
   "execution_count": 14,
   "metadata": {},
   "outputs": [
    {
     "name": "stdout",
     "output_type": "stream",
     "text": [
      "<class 'pandas.core.frame.DataFrame'>\n",
      "RangeIndex: 243713 entries, 0 to 243712\n",
      "Data columns (total 6 columns):\n",
      " #   Column           Non-Null Count   Dtype         \n",
      "---  ------           --------------   -----         \n",
      " 0   event            243713 non-null  object        \n",
      " 1   device_id        243713 non-null  int64         \n",
      " 2   event_timestamp  243713 non-null  int64         \n",
      " 3   exp_id           243713 non-null  int64         \n",
      " 4   datetime         243713 non-null  datetime64[ns]\n",
      " 5   date             243713 non-null  datetime64[ns]\n",
      "dtypes: datetime64[ns](2), int64(3), object(1)\n",
      "memory usage: 11.2+ MB\n"
     ]
    }
   ],
   "source": [
    "data.info()"
   ]
  },
  {
   "cell_type": "markdown",
   "metadata": {},
   "source": [
    "**Итог:**\n",
    "\n",
    "Пользователей попавших в две или несколько групп нет\n",
    "\n",
    "Пропуски и дубликаты отсутствуют\n",
    "\n",
    "Типы данных соответствуют для дальнейшего иследования"
   ]
  },
  {
   "cell_type": "markdown",
   "metadata": {},
   "source": [
    "# Шаг 3"
   ]
  },
  {
   "cell_type": "markdown",
   "metadata": {},
   "source": [
    "**Посмотрим на количество событий**"
   ]
  },
  {
   "cell_type": "code",
   "execution_count": 15,
   "metadata": {},
   "outputs": [
    {
     "name": "stdout",
     "output_type": "stream",
     "text": [
      "Всего событий: 243713\n"
     ]
    }
   ],
   "source": [
    "count_data = data.shape[0]\n",
    "print('Всего событий:', count_data)"
   ]
  },
  {
   "cell_type": "markdown",
   "metadata": {},
   "source": [
    "**Проверим количество пользователей**"
   ]
  },
  {
   "cell_type": "code",
   "execution_count": 16,
   "metadata": {},
   "outputs": [
    {
     "name": "stdout",
     "output_type": "stream",
     "text": [
      "Количество пользователей: 7551\n"
     ]
    }
   ],
   "source": [
    "count_us = len(data['device_id'].unique())\n",
    "print('Количество пользователей:', count_us)"
   ]
  },
  {
   "cell_type": "markdown",
   "metadata": {},
   "source": [
    "**Среднее колличество событий на одного пользователя**"
   ]
  },
  {
   "cell_type": "code",
   "execution_count": 17,
   "metadata": {},
   "outputs": [
    {
     "data": {
      "text/plain": [
       "count    7551.000000\n",
       "mean       32.275593\n",
       "std        65.154219\n",
       "min         1.000000\n",
       "25%         9.000000\n",
       "50%        20.000000\n",
       "75%        37.000000\n",
       "max      2307.000000\n",
       "Name: event, dtype: float64"
      ]
     },
     "execution_count": 17,
     "metadata": {},
     "output_type": "execute_result"
    }
   ],
   "source": [
    "data.groupby('device_id').agg({'event': 'count'})['event'].describe()"
   ]
  },
  {
   "cell_type": "code",
   "execution_count": 18,
   "metadata": {},
   "outputs": [
    {
     "data": {
      "image/png": "[encoded data removed]",
      "text/plain": [
       "<Figure size 720x360 with 1 Axes>"
      ]
     },
     "metadata": {
      "needs_background": "light"
     },
     "output_type": "display_data"
    }
   ],
   "source": [
    "plt.figure(figsize=(10, 5))\n",
    "plt.hist(data.groupby('device_id').agg({'event': 'count'})['event'], bins=50)\n",
    "plt.grid(True)\n",
    "plt.title('Гистограмма количества событий на пользователя')\n",
    "plt.show()"
   ]
  },
  {
   "cell_type": "markdown",
   "metadata": {},
   "source": [
    "Cреднее количество событий - 32 на одного пользователя. \n",
    "\n",
    "Максимальное значение — 2307.\n",
    "\n",
    "Медианное количество событий на одного пользователя — 20"
   ]
  },
  {
   "cell_type": "markdown",
   "metadata": {},
   "source": [
    "**Посмотрим за какой временной период предоставленны данные**"
   ]
  },
  {
   "cell_type": "code",
   "execution_count": 19,
   "metadata": {},
   "outputs": [
    {
     "name": "stdout",
     "output_type": "stream",
     "text": [
      "Минимальная дата: 2019-07-25 00:00:00\n",
      "Максимальная дата: 2019-08-07 00:00:00\n"
     ]
    },
    {
     "data": {
      "text/plain": [
       "Timedelta('13 days 00:00:00')"
      ]
     },
     "execution_count": 19,
     "metadata": {},
     "output_type": "execute_result"
    }
   ],
   "source": [
    "print('Минимальная дата:', data['date'].min())\n",
    "print('Максимальная дата:', data['date'].max())\n",
    "data['date'].max() - data['date'].min()"
   ]
  },
  {
   "cell_type": "code",
   "execution_count": 20,
   "metadata": {},
   "outputs": [
    {
     "data": {
      "image/png": "[encoded data removed]",
      "text/plain": [
       "<Figure size 720x360 with 1 Axes>"
      ]
     },
     "metadata": {
      "needs_background": "light"
     },
     "output_type": "display_data"
    }
   ],
   "source": [
    "plt.figure(figsize=(10, 5))\n",
    "plt.hist(data['datetime'], bins=100)\n",
    "plt.grid(True)\n",
    "plt.title('Гистограмма даты и времени событий')\n",
    "plt.xticks(rotation=40)\n",
    "plt.show()"
   ]
  },
  {
   "cell_type": "markdown",
   "metadata": {},
   "source": [
    "Уже сейчас данные некоректны, стоить расмотреть подробнее 2019-07-31"
   ]
  },
  {
   "cell_type": "code",
   "execution_count": 21,
   "metadata": {},
   "outputs": [
    {
     "data": {
      "image/png": "[encoded data removed]",
      "text/plain": [
       "<Figure size 720x360 with 1 Axes>"
      ]
     },
     "metadata": {
      "needs_background": "light"
     },
     "output_type": "display_data"
    }
   ],
   "source": [
    "plt.figure(figsize=(10, 5))\n",
    "plt.hist(data.query('date == \"2019-07-31\"')['datetime'], bins=20)\n",
    "plt.grid(True)\n",
    "plt.title('Гистограмма даты и времени')\n",
    "plt.xticks(rotation=40)\n",
    "plt.show()"
   ]
  },
  {
   "cell_type": "markdown",
   "metadata": {},
   "source": [
    "Стоит взять за основу данные от 21.00 07,31. Старые данные исключить."
   ]
  },
  {
   "cell_type": "code",
   "execution_count": 22,
   "metadata": {},
   "outputs": [],
   "source": [
    "data = data[data['datetime'] >= '2019-07-31 21:00:00'].reset_index(drop=True)"
   ]
  },
  {
   "cell_type": "code",
   "execution_count": 23,
   "metadata": {},
   "outputs": [
    {
     "name": "stdout",
     "output_type": "stream",
     "text": [
      "Минимальная дата: 2019-07-31 00:00:00\n",
      "Максимальная дата: 2019-08-07 00:00:00\n"
     ]
    },
    {
     "data": {
      "text/plain": [
       "Timedelta('7 days 00:00:00')"
      ]
     },
     "execution_count": 23,
     "metadata": {},
     "output_type": "execute_result"
    }
   ],
   "source": [
    "print('Минимальная дата:', data['date'].min())\n",
    "print('Максимальная дата:', data['date'].max())\n",
    "data['date'].max() - data['date'].min()"
   ]
  },
  {
   "cell_type": "markdown",
   "metadata": {},
   "source": [
    "Период иследования сократился до 7 дней\n",
    "\n",
    "С 2019-07-31 по 2019-08-07\n"
   ]
  },
  {
   "cell_type": "markdown",
   "metadata": {},
   "source": [
    "**Проверим колличество событий и пользователй после исключения старых данных** "
   ]
  },
  {
   "cell_type": "code",
   "execution_count": 24,
   "metadata": {},
   "outputs": [
    {
     "name": "stdout",
     "output_type": "stream",
     "text": [
      "Всего событий: 241724\n",
      "Потеряно событий: 1989\n",
      "Потеряно 0.8% событий\n"
     ]
    }
   ],
   "source": [
    "count_data_new = data.shape[0]\n",
    "print('Всего событий:', count_data_new)\n",
    "print('Потеряно событий:', count_data - count_data_new)\n",
    "print(f'Потеряно {round(((count_data - count_data_new) / count_data) * 100, 1)}% событий')"
   ]
  },
  {
   "cell_type": "code",
   "execution_count": 25,
   "metadata": {},
   "outputs": [
    {
     "name": "stdout",
     "output_type": "stream",
     "text": [
      "Всего пользователей: 7551\n",
      "Потеряно пользователей: 13\n",
      "Потеряно 0.2% пользователей\n"
     ]
    }
   ],
   "source": [
    "count_us_new = len(data['device_id'].unique())\n",
    "print('Всего пользователей:', count_us)\n",
    "print('Потеряно пользователей:', count_us - count_us_new)\n",
    "print(f'Потеряно {round(((count_us - count_us_new) / count_us) * 100, 1)}% пользователей')"
   ]
  },
  {
   "cell_type": "markdown",
   "metadata": {},
   "source": [
    "Потери в данных незначительны, исключение старых данных не повлияло на основной массив."
   ]
  },
  {
   "cell_type": "markdown",
   "metadata": {},
   "source": [
    "**Проверим колличество пользователей в группах**"
   ]
  },
  {
   "cell_type": "code",
   "execution_count": 26,
   "metadata": {},
   "outputs": [
    {
     "data": {
      "text/html": [
       "<div>\n",
       "<style scoped>\n",
       "    .dataframe tbody tr th:only-of-type {\n",
       "        vertical-align: middle;\n",
       "    }\n",
       "\n",
       "    .dataframe tbody tr th {\n",
       "        vertical-align: top;\n",
       "    }\n",
       "\n",
       "    .dataframe thead th {\n",
       "        text-align: right;\n",
       "    }\n",
       "</style>\n",
       "<table border=\"1\" class=\"dataframe\">\n",
       "  <thead>\n",
       "    <tr style=\"text-align: right;\">\n",
       "      <th></th>\n",
       "      <th>device_id</th>\n",
       "    </tr>\n",
       "    <tr>\n",
       "      <th>exp_id</th>\n",
       "      <th></th>\n",
       "    </tr>\n",
       "  </thead>\n",
       "  <tbody>\n",
       "    <tr>\n",
       "      <th>246</th>\n",
       "      <td>2484</td>\n",
       "    </tr>\n",
       "    <tr>\n",
       "      <th>247</th>\n",
       "      <td>2517</td>\n",
       "    </tr>\n",
       "    <tr>\n",
       "      <th>248</th>\n",
       "      <td>2537</td>\n",
       "    </tr>\n",
       "  </tbody>\n",
       "</table>\n",
       "</div>"
      ],
      "text/plain": [
       "        device_id\n",
       "exp_id           \n",
       "246          2484\n",
       "247          2517\n",
       "248          2537"
      ]
     },
     "execution_count": 26,
     "metadata": {},
     "output_type": "execute_result"
    }
   ],
   "source": [
    "data.groupby('exp_id').agg({'device_id': 'nunique'}).sort_values('exp_id')"
   ]
  },
  {
   "cell_type": "markdown",
   "metadata": {},
   "source": [
    "**Данные готовы для дальнейшего иследования:**\n",
    "\n",
    "Данные предоставлены по всем группам. \n",
    "\n",
    "Старые, нерелевантные данные исключины, потери минимальны и не скажутся в дальнейшем.\n",
    "\n"
   ]
  },
  {
   "cell_type": "markdown",
   "metadata": {},
   "source": [
    "# Шаг 4"
   ]
  },
  {
   "cell_type": "markdown",
   "metadata": {},
   "source": [
    "**Проверим какие события представлены в данных и их количество**"
   ]
  },
  {
   "cell_type": "code",
   "execution_count": 27,
   "metadata": {},
   "outputs": [
    {
     "data": {
      "text/plain": [
       "MainScreenAppear           117889\n",
       "OffersScreenAppear          46531\n",
       "CartScreenAppear            42343\n",
       "PaymentScreenSuccessful     33951\n",
       "Tutorial                     1010\n",
       "Name: event, dtype: int64"
      ]
     },
     "execution_count": 27,
     "metadata": {},
     "output_type": "execute_result"
    }
   ],
   "source": [
    "data['event'].value_counts()"
   ]
  },
  {
   "cell_type": "markdown",
   "metadata": {},
   "source": [
    "**Посчитваем сколько пользователей совершали каждое из этих событий, данные отсортируеи по числу пользователей. Так же определим долю пользователей, которые хоть раз совершали событие** "
   ]
  },
  {
   "cell_type": "code",
   "execution_count": 28,
   "metadata": {},
   "outputs": [
    {
     "data": {
      "text/html": [
       "<div>\n",
       "<style scoped>\n",
       "    .dataframe tbody tr th:only-of-type {\n",
       "        vertical-align: middle;\n",
       "    }\n",
       "\n",
       "    .dataframe tbody tr th {\n",
       "        vertical-align: top;\n",
       "    }\n",
       "\n",
       "    .dataframe thead th {\n",
       "        text-align: right;\n",
       "    }\n",
       "</style>\n",
       "<table border=\"1\" class=\"dataframe\">\n",
       "  <thead>\n",
       "    <tr style=\"text-align: right;\">\n",
       "      <th></th>\n",
       "      <th>event</th>\n",
       "      <th>device_id</th>\n",
       "      <th>portion</th>\n",
       "      <th>portion_trans</th>\n",
       "    </tr>\n",
       "  </thead>\n",
       "  <tbody>\n",
       "    <tr>\n",
       "      <th>0</th>\n",
       "      <td>MainScreenAppear</td>\n",
       "      <td>7423</td>\n",
       "      <td>98.5</td>\n",
       "      <td>1.000000</td>\n",
       "    </tr>\n",
       "    <tr>\n",
       "      <th>1</th>\n",
       "      <td>OffersScreenAppear</td>\n",
       "      <td>4597</td>\n",
       "      <td>61.0</td>\n",
       "      <td>0.619291</td>\n",
       "    </tr>\n",
       "    <tr>\n",
       "      <th>2</th>\n",
       "      <td>CartScreenAppear</td>\n",
       "      <td>3736</td>\n",
       "      <td>49.6</td>\n",
       "      <td>0.812704</td>\n",
       "    </tr>\n",
       "    <tr>\n",
       "      <th>3</th>\n",
       "      <td>PaymentScreenSuccessful</td>\n",
       "      <td>3540</td>\n",
       "      <td>47.0</td>\n",
       "      <td>0.947537</td>\n",
       "    </tr>\n",
       "    <tr>\n",
       "      <th>4</th>\n",
       "      <td>Tutorial</td>\n",
       "      <td>843</td>\n",
       "      <td>11.2</td>\n",
       "      <td>0.238136</td>\n",
       "    </tr>\n",
       "  </tbody>\n",
       "</table>\n",
       "</div>"
      ],
      "text/plain": [
       "                     event  device_id  portion  portion_trans\n",
       "0         MainScreenAppear       7423     98.5       1.000000\n",
       "1       OffersScreenAppear       4597     61.0       0.619291\n",
       "2         CartScreenAppear       3736     49.6       0.812704\n",
       "3  PaymentScreenSuccessful       3540     47.0       0.947537\n",
       "4                 Tutorial        843     11.2       0.238136"
      ]
     },
     "metadata": {},
     "output_type": "display_data"
    }
   ],
   "source": [
    "event_count = data.groupby('event').agg({'device_id': 'nunique'}).sort_values('device_id', ascending=False).reset_index()\n",
    "event_count['portion'] = ((event_count['device_id'] / count_us_new) * 100).round(1)\n",
    "event_count['portion_trans'] = (event_count['device_id'].pct_change().fillna(0)+1)\n",
    "event_count.style.format({'portion_trans': '{:,2%}', 'conv': '{:,2%}'})\n",
    "display(event_count)"
   ]
  },
  {
   "cell_type": "markdown",
   "metadata": {},
   "source": [
    "Порядок событий:\n",
    "\n",
    "MainScreenAppear\n",
    "\n",
    "OffersScreenAppear\n",
    "\n",
    "CartScreenAppear\n",
    "\n",
    "PaymentScreenSuccessful\n",
    "\n",
    "Tutorial - по логике это событие должно быть в начале, но примим как данность, что обучение(руководство) пропускает подавляющее число пользователей, как и пользовательские соглашения. В текущию воронку Tutorial не вписывается, не стоит учитывать его.\n"
   ]
  },
  {
   "cell_type": "markdown",
   "metadata": {},
   "source": [
    "Начиная с события MainScreenAppear при переходе к OffersScreenAppear доля  пользователей составляет 61.1, затем при переходе CartScreenAppear доля сокращается и состовляет 49.6.\n",
    "\n",
    "**Доля добравшихся до события PaymentScreenSuccessful составлят 47.0**\n",
    "\n",
    "**Самое большое падение доли пользователей происходит при переходе с MainScreenAppear на OffersScreenAppear**"
   ]
  },
  {
   "cell_type": "markdown",
   "metadata": {},
   "source": [
    "# Шаг 5"
   ]
  },
  {
   "cell_type": "markdown",
   "metadata": {},
   "source": [
    "**Проверим количество пользователей в группах в каждой экспериментальной группе**"
   ]
  },
  {
   "cell_type": "code",
   "execution_count": 29,
   "metadata": {},
   "outputs": [
    {
     "data": {
      "text/html": [
       "<div>\n",
       "<style scoped>\n",
       "    .dataframe tbody tr th:only-of-type {\n",
       "        vertical-align: middle;\n",
       "    }\n",
       "\n",
       "    .dataframe tbody tr th {\n",
       "        vertical-align: top;\n",
       "    }\n",
       "\n",
       "    .dataframe thead th {\n",
       "        text-align: right;\n",
       "    }\n",
       "</style>\n",
       "<table border=\"1\" class=\"dataframe\">\n",
       "  <thead>\n",
       "    <tr style=\"text-align: right;\">\n",
       "      <th></th>\n",
       "      <th>device_id</th>\n",
       "    </tr>\n",
       "    <tr>\n",
       "      <th>exp_id</th>\n",
       "      <th></th>\n",
       "    </tr>\n",
       "  </thead>\n",
       "  <tbody>\n",
       "    <tr>\n",
       "      <th>246</th>\n",
       "      <td>2484</td>\n",
       "    </tr>\n",
       "    <tr>\n",
       "      <th>247</th>\n",
       "      <td>2517</td>\n",
       "    </tr>\n",
       "    <tr>\n",
       "      <th>248</th>\n",
       "      <td>2537</td>\n",
       "    </tr>\n",
       "  </tbody>\n",
       "</table>\n",
       "</div>"
      ],
      "text/plain": [
       "        device_id\n",
       "exp_id           \n",
       "246          2484\n",
       "247          2517\n",
       "248          2537"
      ]
     },
     "execution_count": 29,
     "metadata": {},
     "output_type": "execute_result"
    }
   ],
   "source": [
    "exp_group = data.groupby('exp_id').agg({'device_id': 'nunique'}).sort_values('exp_id')\n",
    "exp_group"
   ]
  },
  {
   "cell_type": "markdown",
   "metadata": {},
   "source": [
    "**Для гипотез создадим переменную \"ex_event\" с числом уникальных пользователей прошедних события в каждой группе**"
   ]
  },
  {
   "cell_type": "code",
   "execution_count": 30,
   "metadata": {},
   "outputs": [
    {
     "data": {
      "text/html": [
       "<div>\n",
       "<style scoped>\n",
       "    .dataframe tbody tr th:only-of-type {\n",
       "        vertical-align: middle;\n",
       "    }\n",
       "\n",
       "    .dataframe tbody tr th {\n",
       "        vertical-align: top;\n",
       "    }\n",
       "\n",
       "    .dataframe thead th {\n",
       "        text-align: right;\n",
       "    }\n",
       "</style>\n",
       "<table border=\"1\" class=\"dataframe\">\n",
       "  <thead>\n",
       "    <tr style=\"text-align: right;\">\n",
       "      <th></th>\n",
       "      <th>event</th>\n",
       "      <th>246</th>\n",
       "      <th>247</th>\n",
       "      <th>248</th>\n",
       "      <th>246+247</th>\n",
       "    </tr>\n",
       "  </thead>\n",
       "  <tbody>\n",
       "    <tr>\n",
       "      <th>0</th>\n",
       "      <td>MainScreenAppear</td>\n",
       "      <td>2450</td>\n",
       "      <td>2479</td>\n",
       "      <td>2494</td>\n",
       "      <td>4929</td>\n",
       "    </tr>\n",
       "    <tr>\n",
       "      <th>1</th>\n",
       "      <td>OffersScreenAppear</td>\n",
       "      <td>1542</td>\n",
       "      <td>1524</td>\n",
       "      <td>1531</td>\n",
       "      <td>3066</td>\n",
       "    </tr>\n",
       "    <tr>\n",
       "      <th>2</th>\n",
       "      <td>CartScreenAppear</td>\n",
       "      <td>1266</td>\n",
       "      <td>1239</td>\n",
       "      <td>1231</td>\n",
       "      <td>2505</td>\n",
       "    </tr>\n",
       "    <tr>\n",
       "      <th>3</th>\n",
       "      <td>PaymentScreenSuccessful</td>\n",
       "      <td>1200</td>\n",
       "      <td>1158</td>\n",
       "      <td>1182</td>\n",
       "      <td>2358</td>\n",
       "    </tr>\n",
       "  </tbody>\n",
       "</table>\n",
       "</div>"
      ],
      "text/plain": [
       "                     event   246   247   248  246+247\n",
       "0         MainScreenAppear  2450  2479  2494     4929\n",
       "1       OffersScreenAppear  1542  1524  1531     3066\n",
       "2         CartScreenAppear  1266  1239  1231     2505\n",
       "3  PaymentScreenSuccessful  1200  1158  1182     2358"
      ]
     },
     "metadata": {},
     "output_type": "display_data"
    }
   ],
   "source": [
    "ex_event = data.query('event != \"Tutorial\"').pivot_table('device_id', index=['event'], columns=['exp_id'], aggfunc='nunique').sort_values(246, ascending=False).reset_index()\n",
    "ex_event['246+247'] = ex_event[246] + ex_event[247]\n",
    "ex_event.columns = ['event', '246', '247', '248', '246+247']\n",
    "display(ex_event)"
   ]
  },
  {
   "cell_type": "markdown",
   "metadata": {},
   "source": [
    "Сравним доли пользователей совершивших каждое из событий для контрольных групп 246 и 247, чтобы проверить корректность всех механизмов и расчётов\n",
    "\n",
    "**Гипотезы**\n",
    "\n",
    "H01 - доли уникальных пользователей, прошедших этапы воронки равны\n",
    "\n",
    "H02 — доли уникальных пользователей, прошедших этапы воронки различны\n",
    "\n",
    "Для снижения вероятности ложнопозитивного результата при множественном тестировании гипотез, применим поправку Бонферрони bonferroni_alpha\n",
    "\n",
    "Чтобы попарно сравнить доли в четырех событиях для четырех групп, уровень значимости alpha делим на 16"
   ]
  },
  {
   "cell_type": "code",
   "execution_count": 31,
   "metadata": {},
   "outputs": [],
   "source": [
    "alpha = 0.05\n",
    "bonferroni_alpha = alpha / 16"
   ]
  },
  {
   "cell_type": "code",
   "execution_count": 32,
   "metadata": {},
   "outputs": [],
   "source": [
    "def hypothesis_test(successes_1, successes_2, trials_1, trials_2, event, group_1, group_2):\n",
    "    p1 = successes_1 / trials_1\n",
    "    p2 = successes_2 / trials_2\n",
    "    p_combined = (successes_1 + successes_2) / (trials_1 + trials_2)\n",
    "    difference = p1 - p2\n",
    "    z_value = difference / mat.sqrt(p_combined * (1 - p_combined) * (1 / trials_1 + 1 / trials_2))\n",
    "    distr = stats.norm(0, 1)\n",
    "    p_value = (1 - distr.cdf(abs(z_value))) * 2\n",
    "    \n",
    "    print('Событие', event)\n",
    "    print(f'Доля пользователей для группы номер: {group_1} — {round((successes_1 / trials_1) * 100, 1)}%')\n",
    "    print(f'Доля пользователей для группы номер: {group_2} — {round((successes_2 / trials_2) * 100, 1)}%')\n",
    "    print('p-значение: ', p_value)\n",
    "    \n",
    "    if p_value < bonferroni_alpha:\n",
    "        print('Отвергаем нулевую гипотезу: между долями есть значимая разница')\n",
    "    else:\n",
    "        print('Не получилось отвергнуть нулевую гипотезу, нет оснований считать доли разными')\n",
    "    print()"
   ]
  },
  {
   "cell_type": "code",
   "execution_count": 33,
   "metadata": {},
   "outputs": [
    {
     "name": "stdout",
     "output_type": "stream",
     "text": [
      "Событие MainScreenAppear\n",
      "Доля пользователей для группы номер: 246 — 98.6%\n",
      "Доля пользователей для группы номер: 247 — 98.5%\n",
      "p-значение:  0.6756217702005545\n",
      "Не получилось отвергнуть нулевую гипотезу, нет оснований считать доли разными\n",
      "\n",
      "Событие OffersScreenAppear\n",
      "Доля пользователей для группы номер: 246 — 62.1%\n",
      "Доля пользователей для группы номер: 247 — 60.5%\n",
      "p-значение:  0.26698769175859516\n",
      "Не получилось отвергнуть нулевую гипотезу, нет оснований считать доли разными\n",
      "\n",
      "Событие CartScreenAppear\n",
      "Доля пользователей для группы номер: 246 — 51.0%\n",
      "Доля пользователей для группы номер: 247 — 49.2%\n",
      "p-значение:  0.2182812140633792\n",
      "Не получилось отвергнуть нулевую гипотезу, нет оснований считать доли разными\n",
      "\n",
      "Событие PaymentScreenSuccessful\n",
      "Доля пользователей для группы номер: 246 — 48.3%\n",
      "Доля пользователей для группы номер: 247 — 46.0%\n",
      "p-значение:  0.10298394982948822\n",
      "Не получилось отвергнуть нулевую гипотезу, нет оснований считать доли разными\n",
      "\n"
     ]
    }
   ],
   "source": [
    "for i in range(len(ex_event)):\n",
    "    hypothesis_test(ex_event.loc[i, '246'], ex_event.loc[i, '247'], exp_group.loc[246, 'device_id'], exp_group.loc[247, 'device_id'], ex_event.loc[i, 'event'], '246', '247')"
   ]
  },
  {
   "cell_type": "markdown",
   "metadata": {},
   "source": [
    "Групп разделены корректно, значимой разницы в долях нет. "
   ]
  },
  {
   "cell_type": "markdown",
   "metadata": {},
   "source": [
    "**Сравнение долей пользователей совершивших каждое из событий в контрольной группы \"247\" и экспериментальной группы с изменённым шрифтом \"248\"**"
   ]
  },
  {
   "cell_type": "code",
   "execution_count": 34,
   "metadata": {},
   "outputs": [
    {
     "name": "stdout",
     "output_type": "stream",
     "text": [
      "Событие MainScreenAppear\n",
      "Доля пользователей для группы номер: 247 — 98.5%\n",
      "Доля пользователей для группы номер: 248 — 98.3%\n",
      "p-значение:  0.6001661582453706\n",
      "Не получилось отвергнуть нулевую гипотезу, нет оснований считать доли разными\n",
      "\n",
      "Событие OffersScreenAppear\n",
      "Доля пользователей для группы номер: 247 — 60.5%\n",
      "Доля пользователей для группы номер: 248 — 60.3%\n",
      "p-значение:  0.8835956656016957\n",
      "Не получилось отвергнуть нулевую гипотезу, нет оснований считать доли разными\n",
      "\n",
      "Событие CartScreenAppear\n",
      "Доля пользователей для группы номер: 247 — 49.2%\n",
      "Доля пользователей для группы номер: 248 — 48.5%\n",
      "p-значение:  0.6169517476996997\n",
      "Не получилось отвергнуть нулевую гипотезу, нет оснований считать доли разными\n",
      "\n",
      "Событие PaymentScreenSuccessful\n",
      "Доля пользователей для группы номер: 247 — 46.0%\n",
      "Доля пользователей для группы номер: 248 — 46.6%\n",
      "p-значение:  0.6775413642906454\n",
      "Не получилось отвергнуть нулевую гипотезу, нет оснований считать доли разными\n",
      "\n"
     ]
    }
   ],
   "source": [
    "for i in range(len(ex_event)):\n",
    "    hypothesis_test(ex_event.loc[i, '247'], ex_event.loc[i, '248'], exp_group.loc[247, 'device_id'], exp_group.loc[248, 'device_id'], ex_event.loc[i, 'event'], '247', '248')"
   ]
  },
  {
   "cell_type": "markdown",
   "metadata": {},
   "source": [
    "**Сравнение долей пользователей совершивших каждое из событий в контрольной группы \"246\" и экспериментальной группы с изменённым шрифтом \"248\"**"
   ]
  },
  {
   "cell_type": "code",
   "execution_count": 38,
   "metadata": {},
   "outputs": [
    {
     "name": "stdout",
     "output_type": "stream",
     "text": [
      "Событие MainScreenAppear\n",
      "Доля пользователей для группы номер: 246 — 98.6%\n",
      "Доля пользователей для группы номер: 248 — 99.1%\n",
      "p-значение:  0.12964615716425953\n",
      "Не получилось отвергнуть нулевую гипотезу, нет оснований считать доли разными\n",
      "\n",
      "Событие OffersScreenAppear\n",
      "Доля пользователей для группы номер: 246 — 62.1%\n",
      "Доля пользователей для группы номер: 248 — 60.8%\n",
      "p-значение:  0.36348863306242984\n",
      "Не получилось отвергнуть нулевую гипотезу, нет оснований считать доли разными\n",
      "\n",
      "Событие CartScreenAppear\n",
      "Доля пользователей для группы номер: 246 — 51.0%\n",
      "Доля пользователей для группы номер: 248 — 48.9%\n",
      "p-значение:  0.14542737713629217\n",
      "Не получилось отвергнуть нулевую гипотезу, нет оснований считать доли разными\n",
      "\n",
      "Событие PaymentScreenSuccessful\n",
      "Доля пользователей для группы номер: 246 — 48.3%\n",
      "Доля пользователей для группы номер: 248 — 47.0%\n",
      "p-значение:  0.3397351400885702\n",
      "Не получилось отвергнуть нулевую гипотезу, нет оснований считать доли разными\n",
      "\n"
     ]
    }
   ],
   "source": [
    "for i in range(len(ex_event)):\n",
    "    hypothesis_test(ex_event.loc[i, '246'], ex_event.loc[i, '248'], exp_group.loc[246, 'device_id'], exp_group.loc[247, 'device_id'], ex_event.loc[i, 'event'], '246', '248')"
   ]
  },
  {
   "cell_type": "markdown",
   "metadata": {},
   "source": [
    "**Сравнение долей пользователей совершивших каждое из событий для контрольной группы 246+247 и экспериментальной группы с изменённым шрифтом 248**"
   ]
  },
  {
   "cell_type": "code",
   "execution_count": 36,
   "metadata": {},
   "outputs": [
    {
     "name": "stdout",
     "output_type": "stream",
     "text": [
      "Событие MainScreenAppear\n",
      "Доля пользователей для группы номер: 246+247 — 98.6%\n",
      "Доля пользователей для группы номер: 248 — 98.3%\n",
      "p-значение:  0.39298914928006035\n",
      "Не получилось отвергнуть нулевую гипотезу, нет оснований считать доли разными\n",
      "\n",
      "Событие OffersScreenAppear\n",
      "Доля пользователей для группы номер: 246+247 — 61.3%\n",
      "Доля пользователей для группы номер: 248 — 60.3%\n",
      "p-значение:  0.418998284007599\n",
      "Не получилось отвергнуть нулевую гипотезу, нет оснований считать доли разными\n",
      "\n",
      "Событие CartScreenAppear\n",
      "Доля пользователей для группы номер: 246+247 — 50.1%\n",
      "Доля пользователей для группы номер: 248 — 48.5%\n",
      "p-значение:  0.19819340844527744\n",
      "Не получилось отвергнуть нулевую гипотезу, нет оснований считать доли разными\n",
      "\n",
      "Событие PaymentScreenSuccessful\n",
      "Доля пользователей для группы номер: 246+247 — 47.2%\n",
      "Доля пользователей для группы номер: 248 — 46.6%\n",
      "p-значение:  0.6452057673098244\n",
      "Не получилось отвергнуть нулевую гипотезу, нет оснований считать доли разными\n",
      "\n"
     ]
    }
   ],
   "source": [
    "for i in range(len(ex_event)):\n",
    "    hypothesis_test(ex_event.loc[i, '246+247'], ex_event.loc[i, '248'],\n",
    "    exp_group.loc[246, 'device_id'] + exp_group.loc[247, 'device_id'], exp_group.loc[248, 'device_id'], ex_event.loc[i, 'event'], '246+247', '248')"
   ]
  },
  {
   "cell_type": "markdown",
   "metadata": {},
   "source": [
    "# Вывод"
   ]
  },
  {
   "cell_type": "markdown",
   "metadata": {},
   "source": [
    "Самая большая потеря пользователей происходит при переходе с главного экрана(MainScreenAppear) на предложения(OffersScreenAppear). Для решения этой проблемы нужны тестировщики, опрос пользователей и т.д"
   ]
  },
  {
   "cell_type": "markdown",
   "metadata": {},
   "source": [
    "Доля пользователей добравшихся до покупки(PaymentScreenSuccessful) равна 47%. Это хороший результат. "
   ]
  },
  {
   "cell_type": "markdown",
   "metadata": {},
   "source": [
    "По итогу А/В тестов, становится видно, что смена шрифта не оказывает значимого влияния на поведение пользователей. \n",
    "Смену шрифта стоит оставить на усмотрения ответственных лиц, дизайнеров и т.д"
   ]
  },
  {
   "cell_type": "code",
   "execution_count": null,
   "metadata": {},
   "outputs": [],
   "source": []
  }
 ],
 "metadata": {
  "ExecuteTimeLog": [
   {
    "duration": 49,
    "start_time": "2022-12-28T09:33:33.779Z"
   },
   {
    "duration": 1288,
    "start_time": "2022-12-28T09:35:20.368Z"
   },
   {
    "duration": 626,
    "start_time": "2022-12-28T09:35:50.185Z"
   },
   {
    "duration": 12,
    "start_time": "2022-12-28T09:36:01.539Z"
   },
   {
    "duration": 42,
    "start_time": "2022-12-28T09:37:58.670Z"
   },
   {
    "duration": 75,
    "start_time": "2022-12-28T09:38:35.246Z"
   },
   {
    "duration": 50,
    "start_time": "2022-12-28T09:39:26.096Z"
   },
   {
    "duration": 59,
    "start_time": "2022-12-28T09:39:28.357Z"
   },
   {
    "duration": 288,
    "start_time": "2022-12-28T09:39:33.924Z"
   },
   {
    "duration": 7,
    "start_time": "2022-12-28T09:39:35.839Z"
   },
   {
    "duration": 144,
    "start_time": "2022-12-28T09:40:13.941Z"
   },
   {
    "duration": 8,
    "start_time": "2022-12-28T09:40:16.108Z"
   },
   {
    "duration": 20,
    "start_time": "2022-12-28T09:40:30.733Z"
   },
   {
    "duration": 1331,
    "start_time": "2023-01-04T09:00:36.658Z"
   },
   {
    "duration": 557,
    "start_time": "2023-01-04T09:00:37.992Z"
   },
   {
    "duration": 13,
    "start_time": "2023-01-04T09:00:38.551Z"
   },
   {
    "duration": 22,
    "start_time": "2023-01-04T09:00:38.566Z"
   },
   {
    "duration": 4,
    "start_time": "2023-01-04T09:00:38.590Z"
   },
   {
    "duration": 93,
    "start_time": "2023-01-04T09:03:03.329Z"
   },
   {
    "duration": 65,
    "start_time": "2023-01-04T09:03:06.871Z"
   },
   {
    "duration": 77,
    "start_time": "2023-01-04T09:03:23.679Z"
   },
   {
    "duration": 4,
    "start_time": "2023-01-04T09:06:50.968Z"
   },
   {
    "duration": 3,
    "start_time": "2023-01-04T09:07:05.947Z"
   },
   {
    "duration": 64,
    "start_time": "2023-01-04T09:07:06.422Z"
   },
   {
    "duration": 55,
    "start_time": "2023-01-04T09:07:06.991Z"
   },
   {
    "duration": 66,
    "start_time": "2023-01-04T09:07:15.726Z"
   },
   {
    "duration": 19,
    "start_time": "2023-01-04T09:07:58.519Z"
   },
   {
    "duration": 14,
    "start_time": "2023-01-04T09:08:06.258Z"
   },
   {
    "duration": 15,
    "start_time": "2023-01-04T09:08:29.929Z"
   },
   {
    "duration": 1123,
    "start_time": "2023-01-04T09:08:48.014Z"
   },
   {
    "duration": 171,
    "start_time": "2023-01-04T09:08:49.140Z"
   },
   {
    "duration": 15,
    "start_time": "2023-01-04T09:08:49.313Z"
   },
   {
    "duration": 23,
    "start_time": "2023-01-04T09:08:49.330Z"
   },
   {
    "duration": 25,
    "start_time": "2023-01-04T09:08:49.355Z"
   },
   {
    "duration": 79,
    "start_time": "2023-01-04T09:08:49.383Z"
   },
   {
    "duration": 82,
    "start_time": "2023-01-04T09:08:49.464Z"
   },
   {
    "duration": 14,
    "start_time": "2023-01-04T09:08:49.548Z"
   },
   {
    "duration": 996,
    "start_time": "2023-01-04T09:54:15.590Z"
   },
   {
    "duration": 882,
    "start_time": "2023-01-04T09:54:29.810Z"
   },
   {
    "duration": 20,
    "start_time": "2023-01-04T09:54:32.978Z"
   },
   {
    "duration": 18,
    "start_time": "2023-01-04T09:54:55.161Z"
   },
   {
    "duration": 19,
    "start_time": "2023-01-04T09:54:55.486Z"
   },
   {
    "duration": 21,
    "start_time": "2023-01-04T09:54:55.871Z"
   },
   {
    "duration": 9,
    "start_time": "2023-01-04T09:56:15.962Z"
   },
   {
    "duration": 109,
    "start_time": "2023-01-04T09:56:28.443Z"
   },
   {
    "duration": 10,
    "start_time": "2023-01-04T09:56:42.276Z"
   },
   {
    "duration": 10,
    "start_time": "2023-01-04T09:56:52.097Z"
   },
   {
    "duration": 1126,
    "start_time": "2023-01-04T09:57:06.222Z"
   },
   {
    "duration": 183,
    "start_time": "2023-01-04T09:57:07.350Z"
   },
   {
    "duration": 13,
    "start_time": "2023-01-04T09:57:07.535Z"
   },
   {
    "duration": 27,
    "start_time": "2023-01-04T09:57:07.550Z"
   },
   {
    "duration": 2,
    "start_time": "2023-01-04T09:57:07.580Z"
   },
   {
    "duration": 65,
    "start_time": "2023-01-04T09:57:07.584Z"
   },
   {
    "duration": 85,
    "start_time": "2023-01-04T09:57:07.651Z"
   },
   {
    "duration": 12,
    "start_time": "2023-01-04T09:57:07.738Z"
   },
   {
    "duration": 36,
    "start_time": "2023-01-04T09:57:07.752Z"
   },
   {
    "duration": 17,
    "start_time": "2023-01-04T09:57:07.790Z"
   },
   {
    "duration": 16,
    "start_time": "2023-01-04T09:57:07.808Z"
   },
   {
    "duration": 122,
    "start_time": "2023-01-04T09:57:07.825Z"
   },
   {
    "duration": 9,
    "start_time": "2023-01-04T09:57:07.948Z"
   },
   {
    "duration": 28,
    "start_time": "2023-01-04T09:57:07.959Z"
   },
   {
    "duration": 1068,
    "start_time": "2023-01-04T09:58:43.771Z"
   },
   {
    "duration": 155,
    "start_time": "2023-01-04T09:58:44.842Z"
   },
   {
    "duration": 13,
    "start_time": "2023-01-04T09:58:44.999Z"
   },
   {
    "duration": 44,
    "start_time": "2023-01-04T09:58:45.013Z"
   },
   {
    "duration": 5,
    "start_time": "2023-01-04T09:58:45.059Z"
   },
   {
    "duration": 66,
    "start_time": "2023-01-04T09:58:45.066Z"
   },
   {
    "duration": 79,
    "start_time": "2023-01-04T09:58:45.133Z"
   },
   {
    "duration": 16,
    "start_time": "2023-01-04T09:58:45.213Z"
   },
   {
    "duration": 21,
    "start_time": "2023-01-04T09:58:45.230Z"
   },
   {
    "duration": 31,
    "start_time": "2023-01-04T09:58:45.253Z"
   },
   {
    "duration": 19,
    "start_time": "2023-01-04T09:58:45.286Z"
   },
   {
    "duration": 129,
    "start_time": "2023-01-04T09:58:45.307Z"
   },
   {
    "duration": 9,
    "start_time": "2023-01-04T09:58:45.437Z"
   },
   {
    "duration": 31,
    "start_time": "2023-01-04T09:58:45.448Z"
   },
   {
    "duration": 5,
    "start_time": "2023-01-04T10:06:29.012Z"
   },
   {
    "duration": 6,
    "start_time": "2023-01-04T10:06:51.627Z"
   },
   {
    "duration": 6,
    "start_time": "2023-01-04T10:09:07.296Z"
   },
   {
    "duration": 6,
    "start_time": "2023-01-04T10:09:17.369Z"
   },
   {
    "duration": 6,
    "start_time": "2023-01-04T10:10:01.023Z"
   },
   {
    "duration": 6,
    "start_time": "2023-01-04T10:10:12.111Z"
   },
   {
    "duration": 6,
    "start_time": "2023-01-04T10:10:12.871Z"
   },
   {
    "duration": 7,
    "start_time": "2023-01-04T10:11:30.977Z"
   },
   {
    "duration": 4,
    "start_time": "2023-01-04T10:13:24.481Z"
   },
   {
    "duration": 4,
    "start_time": "2023-01-04T10:13:50.827Z"
   },
   {
    "duration": 6,
    "start_time": "2023-01-04T10:13:53.732Z"
   },
   {
    "duration": 7,
    "start_time": "2023-01-04T10:13:54.092Z"
   },
   {
    "duration": 7,
    "start_time": "2023-01-04T10:13:54.239Z"
   },
   {
    "duration": 4,
    "start_time": "2023-01-04T12:16:07.785Z"
   },
   {
    "duration": 6,
    "start_time": "2023-01-04T12:16:08.496Z"
   },
   {
    "duration": 6,
    "start_time": "2023-01-04T12:16:08.826Z"
   },
   {
    "duration": 6,
    "start_time": "2023-01-04T12:16:08.973Z"
   },
   {
    "duration": 102,
    "start_time": "2023-01-04T12:16:59.292Z"
   },
   {
    "duration": 260,
    "start_time": "2023-01-04T12:17:12.400Z"
   },
   {
    "duration": 1280,
    "start_time": "2023-01-05T18:56:40.125Z"
   },
   {
    "duration": 531,
    "start_time": "2023-01-05T18:56:41.407Z"
   },
   {
    "duration": 14,
    "start_time": "2023-01-05T18:56:41.940Z"
   },
   {
    "duration": 39,
    "start_time": "2023-01-05T18:56:41.956Z"
   },
   {
    "duration": 4,
    "start_time": "2023-01-05T18:56:41.999Z"
   },
   {
    "duration": 89,
    "start_time": "2023-01-05T18:56:42.005Z"
   },
   {
    "duration": 78,
    "start_time": "2023-01-05T18:56:42.095Z"
   },
   {
    "duration": 17,
    "start_time": "2023-01-05T18:56:42.175Z"
   },
   {
    "duration": 38,
    "start_time": "2023-01-05T18:56:42.194Z"
   },
   {
    "duration": 18,
    "start_time": "2023-01-05T18:56:42.234Z"
   },
   {
    "duration": 18,
    "start_time": "2023-01-05T18:56:42.254Z"
   },
   {
    "duration": 149,
    "start_time": "2023-01-05T18:56:42.274Z"
   },
   {
    "duration": 15,
    "start_time": "2023-01-05T18:56:42.425Z"
   },
   {
    "duration": 38,
    "start_time": "2023-01-05T18:56:42.443Z"
   },
   {
    "duration": 8,
    "start_time": "2023-01-05T18:56:42.483Z"
   },
   {
    "duration": 22,
    "start_time": "2023-01-05T18:56:42.493Z"
   },
   {
    "duration": 24,
    "start_time": "2023-01-05T18:56:42.517Z"
   },
   {
    "duration": 12,
    "start_time": "2023-01-05T18:56:42.543Z"
   },
   {
    "duration": 297,
    "start_time": "2023-01-05T18:56:42.557Z"
   },
   {
    "duration": 258,
    "start_time": "2023-01-05T18:57:56.730Z"
   },
   {
    "duration": 232,
    "start_time": "2023-01-05T18:59:14.715Z"
   },
   {
    "duration": 248,
    "start_time": "2023-01-05T18:59:25.235Z"
   },
   {
    "duration": 22,
    "start_time": "2023-01-05T19:02:15.526Z"
   },
   {
    "duration": 32,
    "start_time": "2023-01-05T19:02:23.935Z"
   },
   {
    "duration": 16,
    "start_time": "2023-01-05T19:02:48.964Z"
   },
   {
    "duration": 14,
    "start_time": "2023-01-05T19:02:51.927Z"
   },
   {
    "duration": 26,
    "start_time": "2023-01-05T19:02:56.681Z"
   },
   {
    "duration": 193,
    "start_time": "2023-01-05T19:05:27.920Z"
   },
   {
    "duration": 155,
    "start_time": "2023-01-05T19:05:33.916Z"
   },
   {
    "duration": 1598,
    "start_time": "2023-01-05T19:05:47.851Z"
   },
   {
    "duration": 234,
    "start_time": "2023-01-05T19:06:05.099Z"
   },
   {
    "duration": 12,
    "start_time": "2023-01-05T19:06:49.562Z"
   },
   {
    "duration": 356,
    "start_time": "2023-01-05T19:06:57.155Z"
   },
   {
    "duration": 304,
    "start_time": "2023-01-05T19:08:01.618Z"
   },
   {
    "duration": 272,
    "start_time": "2023-01-05T19:08:09.804Z"
   },
   {
    "duration": 13,
    "start_time": "2023-01-05T19:25:12.330Z"
   },
   {
    "duration": 38,
    "start_time": "2023-01-05T19:25:16.461Z"
   },
   {
    "duration": 336,
    "start_time": "2023-01-05T19:25:34.901Z"
   },
   {
    "duration": 8,
    "start_time": "2023-01-05T19:26:31.434Z"
   },
   {
    "duration": 4,
    "start_time": "2023-01-05T19:27:52.704Z"
   },
   {
    "duration": 6,
    "start_time": "2023-01-05T19:27:53.409Z"
   },
   {
    "duration": 25,
    "start_time": "2023-01-05T19:27:53.707Z"
   },
   {
    "duration": 198,
    "start_time": "2023-01-05T19:27:53.840Z"
   },
   {
    "duration": 9,
    "start_time": "2023-01-05T19:27:54.333Z"
   },
   {
    "duration": 286,
    "start_time": "2023-01-05T19:27:54.471Z"
   },
   {
    "duration": 216,
    "start_time": "2023-01-05T19:27:54.759Z"
   },
   {
    "duration": 1143,
    "start_time": "2023-01-05T19:29:41.092Z"
   },
   {
    "duration": 9,
    "start_time": "2023-01-05T19:29:56.161Z"
   },
   {
    "duration": 1186,
    "start_time": "2023-01-05T19:39:02.107Z"
   },
   {
    "duration": 162,
    "start_time": "2023-01-05T19:39:03.295Z"
   },
   {
    "duration": 12,
    "start_time": "2023-01-05T19:39:03.459Z"
   },
   {
    "duration": 34,
    "start_time": "2023-01-05T19:39:03.472Z"
   },
   {
    "duration": 3,
    "start_time": "2023-01-05T19:39:03.508Z"
   },
   {
    "duration": 78,
    "start_time": "2023-01-05T19:39:03.512Z"
   },
   {
    "duration": 89,
    "start_time": "2023-01-05T19:39:03.591Z"
   },
   {
    "duration": 16,
    "start_time": "2023-01-05T19:39:03.682Z"
   },
   {
    "duration": 38,
    "start_time": "2023-01-05T19:39:03.700Z"
   },
   {
    "duration": 32,
    "start_time": "2023-01-05T19:39:03.740Z"
   },
   {
    "duration": 20,
    "start_time": "2023-01-05T19:39:03.774Z"
   },
   {
    "duration": 126,
    "start_time": "2023-01-05T19:39:03.796Z"
   },
   {
    "duration": 10,
    "start_time": "2023-01-05T19:39:03.923Z"
   },
   {
    "duration": 28,
    "start_time": "2023-01-05T19:39:03.936Z"
   },
   {
    "duration": 10,
    "start_time": "2023-01-05T19:39:03.965Z"
   },
   {
    "duration": 21,
    "start_time": "2023-01-05T19:39:03.976Z"
   },
   {
    "duration": 32,
    "start_time": "2023-01-05T19:39:03.998Z"
   },
   {
    "duration": 218,
    "start_time": "2023-01-05T19:39:04.032Z"
   },
   {
    "duration": 10,
    "start_time": "2023-01-05T19:39:04.252Z"
   },
   {
    "duration": 374,
    "start_time": "2023-01-05T19:39:04.263Z"
   },
   {
    "duration": 217,
    "start_time": "2023-01-05T19:39:04.639Z"
   },
   {
    "duration": 997,
    "start_time": "2023-01-05T19:39:04.858Z"
   },
   {
    "duration": 10,
    "start_time": "2023-01-05T19:39:05.857Z"
   },
   {
    "duration": 119,
    "start_time": "2023-01-05T19:39:05.869Z"
   },
   {
    "duration": 59,
    "start_time": "2023-01-05T19:39:16.803Z"
   },
   {
    "duration": 5,
    "start_time": "2023-01-05T19:39:27.975Z"
   },
   {
    "duration": 4,
    "start_time": "2023-01-05T19:40:24.269Z"
   },
   {
    "duration": 6,
    "start_time": "2023-01-05T19:40:48.816Z"
   },
   {
    "duration": 6,
    "start_time": "2023-01-05T19:41:16.233Z"
   },
   {
    "duration": 1120,
    "start_time": "2023-01-05T19:41:22.362Z"
   },
   {
    "duration": 156,
    "start_time": "2023-01-05T19:41:23.484Z"
   },
   {
    "duration": 12,
    "start_time": "2023-01-05T19:41:23.642Z"
   },
   {
    "duration": 22,
    "start_time": "2023-01-05T19:41:23.656Z"
   },
   {
    "duration": 3,
    "start_time": "2023-01-05T19:41:23.680Z"
   },
   {
    "duration": 83,
    "start_time": "2023-01-05T19:41:23.685Z"
   },
   {
    "duration": 79,
    "start_time": "2023-01-05T19:41:23.770Z"
   },
   {
    "duration": 14,
    "start_time": "2023-01-05T19:41:23.851Z"
   },
   {
    "duration": 28,
    "start_time": "2023-01-05T19:41:23.867Z"
   },
   {
    "duration": 16,
    "start_time": "2023-01-05T19:41:23.897Z"
   },
   {
    "duration": 35,
    "start_time": "2023-01-05T19:41:23.914Z"
   },
   {
    "duration": 116,
    "start_time": "2023-01-05T19:41:23.951Z"
   },
   {
    "duration": 9,
    "start_time": "2023-01-05T19:41:24.069Z"
   },
   {
    "duration": 40,
    "start_time": "2023-01-05T19:41:24.079Z"
   },
   {
    "duration": 5,
    "start_time": "2023-01-05T19:41:24.120Z"
   },
   {
    "duration": 20,
    "start_time": "2023-01-05T19:41:24.127Z"
   },
   {
    "duration": 32,
    "start_time": "2023-01-05T19:41:24.150Z"
   },
   {
    "duration": 201,
    "start_time": "2023-01-05T19:41:24.184Z"
   },
   {
    "duration": 8,
    "start_time": "2023-01-05T19:41:24.387Z"
   },
   {
    "duration": 381,
    "start_time": "2023-01-05T19:41:24.397Z"
   },
   {
    "duration": 209,
    "start_time": "2023-01-05T19:41:24.780Z"
   },
   {
    "duration": 1039,
    "start_time": "2023-01-05T19:41:24.991Z"
   },
   {
    "duration": 11,
    "start_time": "2023-01-05T19:41:26.032Z"
   },
   {
    "duration": 13,
    "start_time": "2023-01-05T19:41:26.045Z"
   },
   {
    "duration": 4,
    "start_time": "2023-01-05T19:41:44.349Z"
   },
   {
    "duration": 101,
    "start_time": "2023-01-05T19:43:04.052Z"
   },
   {
    "duration": 710,
    "start_time": "2023-01-05T19:43:13.656Z"
   },
   {
    "duration": 12,
    "start_time": "2023-01-05T19:43:29.046Z"
   },
   {
    "duration": 6,
    "start_time": "2023-01-05T19:43:35.280Z"
   },
   {
    "duration": 6,
    "start_time": "2023-01-05T19:43:40.742Z"
   },
   {
    "duration": 6,
    "start_time": "2023-01-05T19:43:48.489Z"
   },
   {
    "duration": 9,
    "start_time": "2023-01-05T19:44:42.611Z"
   },
   {
    "duration": 5,
    "start_time": "2023-01-05T19:45:25.833Z"
   },
   {
    "duration": 1070,
    "start_time": "2023-01-05T19:45:39.284Z"
   },
   {
    "duration": 170,
    "start_time": "2023-01-05T19:45:40.357Z"
   },
   {
    "duration": 12,
    "start_time": "2023-01-05T19:45:40.529Z"
   },
   {
    "duration": 32,
    "start_time": "2023-01-05T19:45:40.543Z"
   },
   {
    "duration": 3,
    "start_time": "2023-01-05T19:45:40.577Z"
   },
   {
    "duration": 76,
    "start_time": "2023-01-05T19:45:40.582Z"
   },
   {
    "duration": 84,
    "start_time": "2023-01-05T19:45:40.659Z"
   },
   {
    "duration": 15,
    "start_time": "2023-01-05T19:45:40.745Z"
   },
   {
    "duration": 24,
    "start_time": "2023-01-05T19:45:40.762Z"
   },
   {
    "duration": 16,
    "start_time": "2023-01-05T19:45:40.788Z"
   },
   {
    "duration": 40,
    "start_time": "2023-01-05T19:45:40.806Z"
   },
   {
    "duration": 115,
    "start_time": "2023-01-05T19:45:40.848Z"
   },
   {
    "duration": 8,
    "start_time": "2023-01-05T19:45:40.965Z"
   },
   {
    "duration": 38,
    "start_time": "2023-01-05T19:45:40.976Z"
   },
   {
    "duration": 6,
    "start_time": "2023-01-05T19:45:41.015Z"
   },
   {
    "duration": 13,
    "start_time": "2023-01-05T19:45:41.023Z"
   },
   {
    "duration": 27,
    "start_time": "2023-01-05T19:45:41.037Z"
   },
   {
    "duration": 217,
    "start_time": "2023-01-05T19:45:41.066Z"
   },
   {
    "duration": 9,
    "start_time": "2023-01-05T19:45:41.285Z"
   },
   {
    "duration": 379,
    "start_time": "2023-01-05T19:45:41.296Z"
   },
   {
    "duration": 217,
    "start_time": "2023-01-05T19:45:41.677Z"
   },
   {
    "duration": 1109,
    "start_time": "2023-01-05T19:45:41.895Z"
   },
   {
    "duration": 8,
    "start_time": "2023-01-05T19:45:43.006Z"
   },
   {
    "duration": 21,
    "start_time": "2023-01-05T19:45:43.015Z"
   },
   {
    "duration": 18,
    "start_time": "2023-01-05T19:45:43.038Z"
   },
   {
    "duration": 37,
    "start_time": "2023-01-05T19:48:36.260Z"
   },
   {
    "duration": 1036,
    "start_time": "2023-01-05T19:59:44.058Z"
   },
   {
    "duration": 163,
    "start_time": "2023-01-05T19:59:45.096Z"
   },
   {
    "duration": 12,
    "start_time": "2023-01-05T19:59:45.261Z"
   },
   {
    "duration": 23,
    "start_time": "2023-01-05T19:59:45.275Z"
   },
   {
    "duration": 3,
    "start_time": "2023-01-05T19:59:45.301Z"
   },
   {
    "duration": 85,
    "start_time": "2023-01-05T19:59:45.305Z"
   },
   {
    "duration": 88,
    "start_time": "2023-01-05T19:59:45.392Z"
   },
   {
    "duration": 16,
    "start_time": "2023-01-05T19:59:45.481Z"
   },
   {
    "duration": 24,
    "start_time": "2023-01-05T19:59:45.498Z"
   },
   {
    "duration": 18,
    "start_time": "2023-01-05T19:59:45.535Z"
   },
   {
    "duration": 16,
    "start_time": "2023-01-05T19:59:45.555Z"
   },
   {
    "duration": 136,
    "start_time": "2023-01-05T19:59:45.573Z"
   },
   {
    "duration": 10,
    "start_time": "2023-01-05T19:59:45.710Z"
   },
   {
    "duration": 22,
    "start_time": "2023-01-05T19:59:45.734Z"
   },
   {
    "duration": 7,
    "start_time": "2023-01-05T19:59:45.758Z"
   },
   {
    "duration": 9,
    "start_time": "2023-01-05T19:59:45.767Z"
   },
   {
    "duration": 31,
    "start_time": "2023-01-05T19:59:45.777Z"
   },
   {
    "duration": 236,
    "start_time": "2023-01-05T19:59:45.810Z"
   },
   {
    "duration": 11,
    "start_time": "2023-01-05T19:59:46.048Z"
   },
   {
    "duration": 390,
    "start_time": "2023-01-05T19:59:46.060Z"
   },
   {
    "duration": 219,
    "start_time": "2023-01-05T19:59:46.452Z"
   },
   {
    "duration": 1055,
    "start_time": "2023-01-05T19:59:46.673Z"
   },
   {
    "duration": 9,
    "start_time": "2023-01-05T19:59:47.729Z"
   },
   {
    "duration": 19,
    "start_time": "2023-01-05T19:59:47.740Z"
   },
   {
    "duration": 37,
    "start_time": "2023-01-05T19:59:47.761Z"
   },
   {
    "duration": 52,
    "start_time": "2023-01-05T19:59:47.800Z"
   },
   {
    "duration": 24,
    "start_time": "2023-01-05T20:02:42.890Z"
   },
   {
    "duration": 26,
    "start_time": "2023-01-05T20:03:22.038Z"
   },
   {
    "duration": 25,
    "start_time": "2023-01-05T20:16:45.392Z"
   },
   {
    "duration": 24,
    "start_time": "2023-01-05T20:18:50.649Z"
   },
   {
    "duration": 1117,
    "start_time": "2023-01-06T05:44:16.852Z"
   },
   {
    "duration": 500,
    "start_time": "2023-01-06T05:44:17.971Z"
   },
   {
    "duration": 10,
    "start_time": "2023-01-06T05:44:18.473Z"
   },
   {
    "duration": 20,
    "start_time": "2023-01-06T05:44:18.485Z"
   },
   {
    "duration": 2,
    "start_time": "2023-01-06T05:44:18.507Z"
   },
   {
    "duration": 66,
    "start_time": "2023-01-06T05:44:18.511Z"
   },
   {
    "duration": 72,
    "start_time": "2023-01-06T05:44:18.580Z"
   },
   {
    "duration": 14,
    "start_time": "2023-01-06T05:44:18.653Z"
   },
   {
    "duration": 20,
    "start_time": "2023-01-06T05:44:18.668Z"
   },
   {
    "duration": 33,
    "start_time": "2023-01-06T05:44:18.691Z"
   },
   {
    "duration": 16,
    "start_time": "2023-01-06T05:44:18.725Z"
   },
   {
    "duration": 113,
    "start_time": "2023-01-06T05:44:18.743Z"
   },
   {
    "duration": 8,
    "start_time": "2023-01-06T05:44:18.858Z"
   },
   {
    "duration": 32,
    "start_time": "2023-01-06T05:44:18.867Z"
   },
   {
    "duration": 3,
    "start_time": "2023-01-06T05:44:18.900Z"
   },
   {
    "duration": 7,
    "start_time": "2023-01-06T05:44:18.905Z"
   },
   {
    "duration": 24,
    "start_time": "2023-01-06T05:44:18.920Z"
   },
   {
    "duration": 218,
    "start_time": "2023-01-06T05:44:18.945Z"
   },
   {
    "duration": 8,
    "start_time": "2023-01-06T05:44:19.164Z"
   },
   {
    "duration": 339,
    "start_time": "2023-01-06T05:44:19.174Z"
   },
   {
    "duration": 187,
    "start_time": "2023-01-06T05:44:19.515Z"
   },
   {
    "duration": 903,
    "start_time": "2023-01-06T05:44:19.704Z"
   },
   {
    "duration": 15,
    "start_time": "2023-01-06T05:44:20.608Z"
   },
   {
    "duration": 4,
    "start_time": "2023-01-06T05:44:20.624Z"
   },
   {
    "duration": 59,
    "start_time": "2023-01-06T05:44:20.629Z"
   },
   {
    "duration": 32,
    "start_time": "2023-01-06T05:44:20.689Z"
   },
   {
    "duration": 22,
    "start_time": "2023-01-06T05:44:20.723Z"
   },
   {
    "duration": 26,
    "start_time": "2023-01-06T05:46:19.972Z"
   },
   {
    "duration": 9,
    "start_time": "2023-01-06T05:47:16.959Z"
   },
   {
    "duration": 55,
    "start_time": "2023-01-06T05:49:18.118Z"
   },
   {
    "duration": 52,
    "start_time": "2023-01-06T05:51:36.827Z"
   },
   {
    "duration": 91,
    "start_time": "2023-01-06T05:57:17.138Z"
   },
   {
    "duration": 9,
    "start_time": "2023-01-06T05:58:47.914Z"
   },
   {
    "duration": 10,
    "start_time": "2023-01-06T05:59:34.955Z"
   },
   {
    "duration": 9,
    "start_time": "2023-01-06T06:00:01.661Z"
   },
   {
    "duration": 9,
    "start_time": "2023-01-06T06:00:33.109Z"
   },
   {
    "duration": 1055,
    "start_time": "2023-01-06T06:00:40.709Z"
   },
   {
    "duration": 155,
    "start_time": "2023-01-06T06:00:41.766Z"
   },
   {
    "duration": 10,
    "start_time": "2023-01-06T06:00:41.923Z"
   },
   {
    "duration": 19,
    "start_time": "2023-01-06T06:00:41.935Z"
   },
   {
    "duration": 3,
    "start_time": "2023-01-06T06:00:41.956Z"
   },
   {
    "duration": 83,
    "start_time": "2023-01-06T06:00:41.960Z"
   },
   {
    "duration": 77,
    "start_time": "2023-01-06T06:00:42.045Z"
   },
   {
    "duration": 14,
    "start_time": "2023-01-06T06:00:42.123Z"
   },
   {
    "duration": 24,
    "start_time": "2023-01-06T06:00:42.139Z"
   },
   {
    "duration": 19,
    "start_time": "2023-01-06T06:00:42.165Z"
   },
   {
    "duration": 14,
    "start_time": "2023-01-06T06:00:42.185Z"
   },
   {
    "duration": 111,
    "start_time": "2023-01-06T06:00:42.201Z"
   },
   {
    "duration": 10,
    "start_time": "2023-01-06T06:00:42.314Z"
   },
   {
    "duration": 19,
    "start_time": "2023-01-06T06:00:42.327Z"
   },
   {
    "duration": 3,
    "start_time": "2023-01-06T06:00:42.348Z"
   },
   {
    "duration": 8,
    "start_time": "2023-01-06T06:00:42.352Z"
   },
   {
    "duration": 26,
    "start_time": "2023-01-06T06:00:42.361Z"
   },
   {
    "duration": 225,
    "start_time": "2023-01-06T06:00:42.389Z"
   },
   {
    "duration": 9,
    "start_time": "2023-01-06T06:00:42.621Z"
   },
   {
    "duration": 358,
    "start_time": "2023-01-06T06:00:42.632Z"
   },
   {
    "duration": 189,
    "start_time": "2023-01-06T06:00:42.992Z"
   },
   {
    "duration": 895,
    "start_time": "2023-01-06T06:00:43.183Z"
   },
   {
    "duration": 8,
    "start_time": "2023-01-06T06:00:44.080Z"
   },
   {
    "duration": 6,
    "start_time": "2023-01-06T06:00:44.090Z"
   },
   {
    "duration": 12,
    "start_time": "2023-01-06T06:00:44.098Z"
   },
   {
    "duration": 39,
    "start_time": "2023-01-06T06:00:44.111Z"
   },
   {
    "duration": 21,
    "start_time": "2023-01-06T06:00:44.152Z"
   },
   {
    "duration": 68,
    "start_time": "2023-01-06T06:00:44.175Z"
   },
   {
    "duration": 97,
    "start_time": "2023-01-06T06:00:44.244Z"
   },
   {
    "duration": 19,
    "start_time": "2023-01-06T06:01:55.546Z"
   },
   {
    "duration": 144,
    "start_time": "2023-01-06T06:02:36.213Z"
   },
   {
    "duration": 13,
    "start_time": "2023-01-06T06:05:55.842Z"
   },
   {
    "duration": 1189,
    "start_time": "2023-01-07T05:43:41.688Z"
   },
   {
    "duration": 490,
    "start_time": "2023-01-07T05:43:42.879Z"
   },
   {
    "duration": 10,
    "start_time": "2023-01-07T05:43:43.371Z"
   },
   {
    "duration": 68,
    "start_time": "2023-01-07T05:43:43.383Z"
   },
   {
    "duration": 4,
    "start_time": "2023-01-07T05:43:43.453Z"
   },
   {
    "duration": 102,
    "start_time": "2023-01-07T05:43:43.459Z"
   },
   {
    "duration": 88,
    "start_time": "2023-01-07T05:43:43.562Z"
   },
   {
    "duration": 17,
    "start_time": "2023-01-07T05:43:43.653Z"
   },
   {
    "duration": 50,
    "start_time": "2023-01-07T05:43:43.671Z"
   },
   {
    "duration": 44,
    "start_time": "2023-01-07T05:43:43.723Z"
   },
   {
    "duration": 14,
    "start_time": "2023-01-07T05:43:43.769Z"
   },
   {
    "duration": 129,
    "start_time": "2023-01-07T05:43:43.785Z"
   },
   {
    "duration": 8,
    "start_time": "2023-01-07T05:43:43.916Z"
   },
   {
    "duration": 57,
    "start_time": "2023-01-07T05:43:43.926Z"
   },
   {
    "duration": 24,
    "start_time": "2023-01-07T05:43:43.984Z"
   },
   {
    "duration": 42,
    "start_time": "2023-01-07T05:43:44.009Z"
   },
   {
    "duration": 36,
    "start_time": "2023-01-07T05:43:44.053Z"
   },
   {
    "duration": 200,
    "start_time": "2023-01-07T05:43:44.090Z"
   },
   {
    "duration": 8,
    "start_time": "2023-01-07T05:43:44.291Z"
   },
   {
    "duration": 349,
    "start_time": "2023-01-07T05:43:44.300Z"
   },
   {
    "duration": 184,
    "start_time": "2023-01-07T05:43:44.651Z"
   },
   {
    "duration": 908,
    "start_time": "2023-01-07T05:43:44.836Z"
   },
   {
    "duration": 9,
    "start_time": "2023-01-07T05:43:45.745Z"
   },
   {
    "duration": 6,
    "start_time": "2023-01-07T05:43:45.755Z"
   },
   {
    "duration": 12,
    "start_time": "2023-01-07T05:43:45.763Z"
   },
   {
    "duration": 45,
    "start_time": "2023-01-07T05:43:45.776Z"
   },
   {
    "duration": 21,
    "start_time": "2023-01-07T05:43:45.822Z"
   },
   {
    "duration": 68,
    "start_time": "2023-01-07T05:43:45.845Z"
   },
   {
    "duration": 33,
    "start_time": "2023-01-07T05:48:04.409Z"
   },
   {
    "duration": 176,
    "start_time": "2023-01-07T06:48:13.701Z"
   },
   {
    "duration": 91,
    "start_time": "2023-01-07T06:48:15.967Z"
   },
   {
    "duration": 82,
    "start_time": "2023-01-07T06:48:25.609Z"
   },
   {
    "duration": 3,
    "start_time": "2023-01-07T06:52:08.319Z"
   },
   {
    "duration": 5,
    "start_time": "2023-01-07T06:53:25.599Z"
   },
   {
    "duration": 44,
    "start_time": "2023-01-07T06:53:55.364Z"
   },
   {
    "duration": 9,
    "start_time": "2023-01-07T06:54:05.742Z"
   },
   {
    "duration": 9,
    "start_time": "2023-01-07T06:54:21.377Z"
   },
   {
    "duration": 9,
    "start_time": "2023-01-07T06:54:32.297Z"
   },
   {
    "duration": 8,
    "start_time": "2023-01-07T06:54:58.989Z"
   },
   {
    "duration": 17,
    "start_time": "2023-01-07T06:55:50.650Z"
   },
   {
    "duration": 1096,
    "start_time": "2023-01-08T09:44:24.948Z"
   },
   {
    "duration": 664,
    "start_time": "2023-01-08T09:44:26.046Z"
   },
   {
    "duration": 10,
    "start_time": "2023-01-08T09:44:26.711Z"
   },
   {
    "duration": 45,
    "start_time": "2023-01-08T09:44:26.723Z"
   },
   {
    "duration": 17,
    "start_time": "2023-01-08T09:44:26.770Z"
   },
   {
    "duration": 75,
    "start_time": "2023-01-08T09:44:26.789Z"
   },
   {
    "duration": 71,
    "start_time": "2023-01-08T09:44:26.866Z"
   },
   {
    "duration": 13,
    "start_time": "2023-01-08T09:44:26.939Z"
   },
   {
    "duration": 34,
    "start_time": "2023-01-08T09:44:26.954Z"
   },
   {
    "duration": 15,
    "start_time": "2023-01-08T09:44:26.991Z"
   },
   {
    "duration": 14,
    "start_time": "2023-01-08T09:44:27.008Z"
   },
   {
    "duration": 109,
    "start_time": "2023-01-08T09:44:27.023Z"
   },
   {
    "duration": 10,
    "start_time": "2023-01-08T09:44:27.133Z"
   },
   {
    "duration": 27,
    "start_time": "2023-01-08T09:44:27.145Z"
   },
   {
    "duration": 25,
    "start_time": "2023-01-08T09:44:27.174Z"
   },
   {
    "duration": 21,
    "start_time": "2023-01-08T09:44:27.201Z"
   },
   {
    "duration": 49,
    "start_time": "2023-01-08T09:44:27.224Z"
   },
   {
    "duration": 188,
    "start_time": "2023-01-08T09:44:27.275Z"
   },
   {
    "duration": 9,
    "start_time": "2023-01-08T09:44:27.465Z"
   },
   {
    "duration": 328,
    "start_time": "2023-01-08T09:44:27.475Z"
   },
   {
    "duration": 187,
    "start_time": "2023-01-08T09:44:27.805Z"
   },
   {
    "duration": 904,
    "start_time": "2023-01-08T09:44:27.993Z"
   },
   {
    "duration": 16,
    "start_time": "2023-01-08T09:44:28.899Z"
   },
   {
    "duration": 3,
    "start_time": "2023-01-08T09:44:28.917Z"
   },
   {
    "duration": 11,
    "start_time": "2023-01-08T09:44:28.922Z"
   },
   {
    "duration": 35,
    "start_time": "2023-01-08T09:44:28.934Z"
   },
   {
    "duration": 19,
    "start_time": "2023-01-08T09:44:28.971Z"
   },
   {
    "duration": 69,
    "start_time": "2023-01-08T09:44:28.992Z"
   },
   {
    "duration": 30,
    "start_time": "2023-01-08T09:44:29.063Z"
   },
   {
    "duration": 102,
    "start_time": "2023-01-08T09:44:29.094Z"
   },
   {
    "duration": 3,
    "start_time": "2023-01-08T09:44:29.197Z"
   },
   {
    "duration": 9,
    "start_time": "2023-01-08T09:44:29.212Z"
   },
   {
    "duration": 105,
    "start_time": "2023-01-08T09:44:29.222Z"
   },
   {
    "duration": 1002,
    "start_time": "2023-01-08T09:45:50.342Z"
   },
   {
    "duration": 140,
    "start_time": "2023-01-08T09:45:51.346Z"
   },
   {
    "duration": 10,
    "start_time": "2023-01-08T09:45:51.487Z"
   },
   {
    "duration": 26,
    "start_time": "2023-01-08T09:45:51.498Z"
   },
   {
    "duration": 3,
    "start_time": "2023-01-08T09:45:51.526Z"
   },
   {
    "duration": 57,
    "start_time": "2023-01-08T09:45:51.530Z"
   },
   {
    "duration": 73,
    "start_time": "2023-01-08T09:45:51.588Z"
   },
   {
    "duration": 12,
    "start_time": "2023-01-08T09:45:51.663Z"
   },
   {
    "duration": 17,
    "start_time": "2023-01-08T09:45:51.676Z"
   },
   {
    "duration": 31,
    "start_time": "2023-01-08T09:45:51.694Z"
   },
   {
    "duration": 14,
    "start_time": "2023-01-08T09:45:51.726Z"
   },
   {
    "duration": 105,
    "start_time": "2023-01-08T09:45:51.741Z"
   },
   {
    "duration": 8,
    "start_time": "2023-01-08T09:45:51.848Z"
   },
   {
    "duration": 17,
    "start_time": "2023-01-08T09:45:51.858Z"
   },
   {
    "duration": 3,
    "start_time": "2023-01-08T09:45:51.877Z"
   },
   {
    "duration": 13,
    "start_time": "2023-01-08T09:45:51.881Z"
   },
   {
    "duration": 35,
    "start_time": "2023-01-08T09:45:51.895Z"
   },
   {
    "duration": 184,
    "start_time": "2023-01-08T09:45:51.932Z"
   },
   {
    "duration": 8,
    "start_time": "2023-01-08T09:45:52.118Z"
   },
   {
    "duration": 326,
    "start_time": "2023-01-08T09:45:52.127Z"
   },
   {
    "duration": 172,
    "start_time": "2023-01-08T09:45:52.455Z"
   },
   {
    "duration": 879,
    "start_time": "2023-01-08T09:45:52.628Z"
   },
   {
    "duration": 9,
    "start_time": "2023-01-08T09:45:53.509Z"
   },
   {
    "duration": 12,
    "start_time": "2023-01-08T09:45:53.519Z"
   },
   {
    "duration": 29,
    "start_time": "2023-01-08T09:45:53.533Z"
   },
   {
    "duration": 37,
    "start_time": "2023-01-08T09:45:53.563Z"
   },
   {
    "duration": 17,
    "start_time": "2023-01-08T09:45:53.602Z"
   },
   {
    "duration": 58,
    "start_time": "2023-01-08T09:45:53.620Z"
   },
   {
    "duration": 26,
    "start_time": "2023-01-08T09:45:53.679Z"
   },
   {
    "duration": 84,
    "start_time": "2023-01-08T09:45:53.707Z"
   },
   {
    "duration": 2,
    "start_time": "2023-01-08T09:45:53.793Z"
   },
   {
    "duration": 17,
    "start_time": "2023-01-08T09:45:53.796Z"
   },
   {
    "duration": 107,
    "start_time": "2023-01-08T09:45:53.814Z"
   },
   {
    "duration": 1210,
    "start_time": "2023-01-08T09:46:23.390Z"
   },
   {
    "duration": 27,
    "start_time": "2023-01-08T09:46:44.563Z"
   },
   {
    "duration": 30,
    "start_time": "2023-01-08T09:46:49.515Z"
   },
   {
    "duration": 13,
    "start_time": "2023-01-08T09:46:59.845Z"
   },
   {
    "duration": 5,
    "start_time": "2023-01-08T09:48:05.412Z"
   },
   {
    "duration": 12,
    "start_time": "2023-01-08T09:48:05.719Z"
   },
   {
    "duration": 1055,
    "start_time": "2023-01-08T09:48:11.786Z"
   },
   {
    "duration": 146,
    "start_time": "2023-01-08T09:48:12.843Z"
   },
   {
    "duration": 10,
    "start_time": "2023-01-08T09:48:12.990Z"
   },
   {
    "duration": 27,
    "start_time": "2023-01-08T09:48:13.002Z"
   },
   {
    "duration": 8,
    "start_time": "2023-01-08T09:48:13.030Z"
   },
   {
    "duration": 67,
    "start_time": "2023-01-08T09:48:13.039Z"
   },
   {
    "duration": 68,
    "start_time": "2023-01-08T09:48:13.107Z"
   },
   {
    "duration": 12,
    "start_time": "2023-01-08T09:48:13.177Z"
   },
   {
    "duration": 22,
    "start_time": "2023-01-08T09:48:13.191Z"
   },
   {
    "duration": 25,
    "start_time": "2023-01-08T09:48:13.215Z"
   },
   {
    "duration": 28,
    "start_time": "2023-01-08T09:48:13.241Z"
   },
   {
    "duration": 92,
    "start_time": "2023-01-08T09:48:13.271Z"
   },
   {
    "duration": 8,
    "start_time": "2023-01-08T09:48:13.365Z"
   },
   {
    "duration": 31,
    "start_time": "2023-01-08T09:48:13.376Z"
   },
   {
    "duration": 21,
    "start_time": "2023-01-08T09:48:13.408Z"
   },
   {
    "duration": 10,
    "start_time": "2023-01-08T09:48:13.431Z"
   },
   {
    "duration": 38,
    "start_time": "2023-01-08T09:48:13.442Z"
   },
   {
    "duration": 180,
    "start_time": "2023-01-08T09:48:13.482Z"
   },
   {
    "duration": 7,
    "start_time": "2023-01-08T09:48:13.663Z"
   },
   {
    "duration": 317,
    "start_time": "2023-01-08T09:48:13.672Z"
   },
   {
    "duration": 174,
    "start_time": "2023-01-08T09:48:13.991Z"
   },
   {
    "duration": 909,
    "start_time": "2023-01-08T09:48:14.166Z"
   },
   {
    "duration": 8,
    "start_time": "2023-01-08T09:48:15.077Z"
   },
   {
    "duration": 5,
    "start_time": "2023-01-08T09:48:15.086Z"
   },
   {
    "duration": 21,
    "start_time": "2023-01-08T09:48:15.093Z"
   },
   {
    "duration": 34,
    "start_time": "2023-01-08T09:48:15.116Z"
   },
   {
    "duration": 18,
    "start_time": "2023-01-08T09:48:15.152Z"
   },
   {
    "duration": 68,
    "start_time": "2023-01-08T09:48:15.171Z"
   },
   {
    "duration": 30,
    "start_time": "2023-01-08T09:48:15.241Z"
   },
   {
    "duration": 98,
    "start_time": "2023-01-08T09:48:15.272Z"
   },
   {
    "duration": 3,
    "start_time": "2023-01-08T09:48:15.371Z"
   },
   {
    "duration": 11,
    "start_time": "2023-01-08T09:48:15.375Z"
   },
   {
    "duration": 105,
    "start_time": "2023-01-08T09:48:15.388Z"
   },
   {
    "duration": 5,
    "start_time": "2023-01-08T09:49:13.060Z"
   },
   {
    "duration": 9,
    "start_time": "2023-01-08T09:49:13.337Z"
   },
   {
    "duration": 5,
    "start_time": "2023-01-08T09:49:57.057Z"
   },
   {
    "duration": 8,
    "start_time": "2023-01-08T09:49:58.665Z"
   },
   {
    "duration": 9,
    "start_time": "2023-01-08T10:04:56.914Z"
   },
   {
    "duration": 11,
    "start_time": "2023-01-08T10:05:05.891Z"
   },
   {
    "duration": 9,
    "start_time": "2023-01-08T10:05:10.011Z"
   },
   {
    "duration": 1308,
    "start_time": "2023-01-08T10:05:14.769Z"
   },
   {
    "duration": 11,
    "start_time": "2023-01-08T10:05:28.691Z"
   },
   {
    "duration": 1246,
    "start_time": "2023-01-08T10:20:29.869Z"
   },
   {
    "duration": 9,
    "start_time": "2023-01-08T10:20:43.829Z"
   },
   {
    "duration": 9,
    "start_time": "2023-01-08T10:20:53.600Z"
   },
   {
    "duration": 4,
    "start_time": "2023-01-08T12:08:27.467Z"
   },
   {
    "duration": 1174,
    "start_time": "2023-01-08T13:39:49.557Z"
   },
   {
    "duration": 499,
    "start_time": "2023-01-08T13:39:50.733Z"
   },
   {
    "duration": 9,
    "start_time": "2023-01-08T13:39:51.234Z"
   },
   {
    "duration": 22,
    "start_time": "2023-01-08T13:39:51.245Z"
   },
   {
    "duration": 3,
    "start_time": "2023-01-08T13:39:51.270Z"
   },
   {
    "duration": 60,
    "start_time": "2023-01-08T13:39:51.274Z"
   },
   {
    "duration": 75,
    "start_time": "2023-01-08T13:39:51.336Z"
   },
   {
    "duration": 15,
    "start_time": "2023-01-08T13:39:51.413Z"
   },
   {
    "duration": 18,
    "start_time": "2023-01-08T13:39:51.429Z"
   },
   {
    "duration": 28,
    "start_time": "2023-01-08T13:39:51.449Z"
   },
   {
    "duration": 15,
    "start_time": "2023-01-08T13:39:51.479Z"
   },
   {
    "duration": 117,
    "start_time": "2023-01-08T13:39:51.495Z"
   },
   {
    "duration": 11,
    "start_time": "2023-01-08T13:39:51.613Z"
   },
   {
    "duration": 40,
    "start_time": "2023-01-08T13:39:51.627Z"
   },
   {
    "duration": 3,
    "start_time": "2023-01-08T13:39:51.669Z"
   },
   {
    "duration": 13,
    "start_time": "2023-01-08T13:39:51.677Z"
   },
   {
    "duration": 30,
    "start_time": "2023-01-08T13:39:51.691Z"
   },
   {
    "duration": 211,
    "start_time": "2023-01-08T13:39:51.723Z"
   },
   {
    "duration": 11,
    "start_time": "2023-01-08T13:39:51.936Z"
   },
   {
    "duration": 354,
    "start_time": "2023-01-08T13:39:51.949Z"
   },
   {
    "duration": 200,
    "start_time": "2023-01-08T13:39:52.305Z"
   },
   {
    "duration": 919,
    "start_time": "2023-01-08T13:39:52.506Z"
   },
   {
    "duration": 8,
    "start_time": "2023-01-08T13:39:53.427Z"
   },
   {
    "duration": 3,
    "start_time": "2023-01-08T13:39:53.437Z"
   },
   {
    "duration": 8,
    "start_time": "2023-01-08T13:39:53.442Z"
   },
   {
    "duration": 51,
    "start_time": "2023-01-08T13:39:53.452Z"
   },
   {
    "duration": 44,
    "start_time": "2023-01-08T13:39:53.506Z"
   },
   {
    "duration": 76,
    "start_time": "2023-01-08T13:39:53.552Z"
   },
   {
    "duration": 31,
    "start_time": "2023-01-08T13:39:53.629Z"
   },
   {
    "duration": 105,
    "start_time": "2023-01-08T13:39:53.661Z"
   },
   {
    "duration": 9,
    "start_time": "2023-01-08T13:39:53.767Z"
   },
   {
    "duration": 13,
    "start_time": "2023-01-08T13:39:53.778Z"
   },
   {
    "duration": 16,
    "start_time": "2023-01-08T13:39:53.792Z"
   },
   {
    "duration": 11,
    "start_time": "2023-01-08T13:39:53.810Z"
   },
   {
    "duration": 11,
    "start_time": "2023-01-08T13:39:53.822Z"
   },
   {
    "duration": 4,
    "start_time": "2023-01-08T13:43:31.006Z"
   },
   {
    "duration": 3,
    "start_time": "2023-01-08T13:43:43.247Z"
   },
   {
    "duration": 13,
    "start_time": "2023-01-08T13:44:04.167Z"
   },
   {
    "duration": 59,
    "start_time": "2023-01-08T13:45:24.824Z"
   },
   {
    "duration": 1045,
    "start_time": "2023-01-08T13:45:30.046Z"
   },
   {
    "duration": 14,
    "start_time": "2023-01-08T13:47:17.746Z"
   },
   {
    "duration": 1033,
    "start_time": "2023-01-08T13:47:23.788Z"
   },
   {
    "duration": 190,
    "start_time": "2023-01-08T13:47:24.824Z"
   },
   {
    "duration": 11,
    "start_time": "2023-01-08T13:47:25.016Z"
   },
   {
    "duration": 19,
    "start_time": "2023-01-08T13:47:25.029Z"
   },
   {
    "duration": 3,
    "start_time": "2023-01-08T13:47:25.050Z"
   },
   {
    "duration": 71,
    "start_time": "2023-01-08T13:47:25.054Z"
   },
   {
    "duration": 74,
    "start_time": "2023-01-08T13:47:25.126Z"
   },
   {
    "duration": 13,
    "start_time": "2023-01-08T13:47:25.202Z"
   },
   {
    "duration": 25,
    "start_time": "2023-01-08T13:47:25.216Z"
   },
   {
    "duration": 18,
    "start_time": "2023-01-08T13:47:25.243Z"
   },
   {
    "duration": 30,
    "start_time": "2023-01-08T13:47:25.263Z"
   },
   {
    "duration": 125,
    "start_time": "2023-01-08T13:47:25.294Z"
   },
   {
    "duration": 56,
    "start_time": "2023-01-08T13:47:25.421Z"
   },
   {
    "duration": 32,
    "start_time": "2023-01-08T13:47:25.480Z"
   },
   {
    "duration": 3,
    "start_time": "2023-01-08T13:47:25.514Z"
   },
   {
    "duration": 57,
    "start_time": "2023-01-08T13:47:25.519Z"
   },
   {
    "duration": 22,
    "start_time": "2023-01-08T13:47:25.578Z"
   },
   {
    "duration": 386,
    "start_time": "2023-01-08T13:47:25.602Z"
   },
   {
    "duration": 7,
    "start_time": "2023-01-08T13:47:25.990Z"
   },
   {
    "duration": 695,
    "start_time": "2023-01-08T13:47:25.999Z"
   },
   {
    "duration": 408,
    "start_time": "2023-01-08T13:47:26.696Z"
   },
   {
    "duration": 18,
    "start_time": "2023-01-08T13:47:27.106Z"
   },
   {
    "duration": 7,
    "start_time": "2023-01-08T13:47:27.126Z"
   },
   {
    "duration": 8,
    "start_time": "2023-01-08T13:47:27.134Z"
   },
   {
    "duration": 12,
    "start_time": "2023-01-08T13:47:27.143Z"
   },
   {
    "duration": 46,
    "start_time": "2023-01-08T13:47:27.156Z"
   },
   {
    "duration": 36,
    "start_time": "2023-01-08T13:47:27.204Z"
   },
   {
    "duration": 52,
    "start_time": "2023-01-08T13:47:27.242Z"
   },
   {
    "duration": 30,
    "start_time": "2023-01-08T13:47:27.296Z"
   },
   {
    "duration": 93,
    "start_time": "2023-01-08T13:47:27.327Z"
   },
   {
    "duration": 2,
    "start_time": "2023-01-08T13:47:27.422Z"
   },
   {
    "duration": 19,
    "start_time": "2023-01-08T13:47:27.425Z"
   },
   {
    "duration": 20,
    "start_time": "2023-01-08T13:47:27.446Z"
   },
   {
    "duration": 9,
    "start_time": "2023-01-08T13:47:27.467Z"
   },
   {
    "duration": 9,
    "start_time": "2023-01-08T13:47:27.477Z"
   },
   {
    "duration": 1004,
    "start_time": "2023-01-08T13:47:39.524Z"
   },
   {
    "duration": 188,
    "start_time": "2023-01-08T13:47:40.530Z"
   },
   {
    "duration": 12,
    "start_time": "2023-01-08T13:47:40.719Z"
   },
   {
    "duration": 21,
    "start_time": "2023-01-08T13:47:40.732Z"
   },
   {
    "duration": 21,
    "start_time": "2023-01-08T13:47:40.755Z"
   },
   {
    "duration": 63,
    "start_time": "2023-01-08T13:47:40.778Z"
   },
   {
    "duration": 84,
    "start_time": "2023-01-08T13:47:40.843Z"
   },
   {
    "duration": 15,
    "start_time": "2023-01-08T13:47:40.929Z"
   },
   {
    "duration": 34,
    "start_time": "2023-01-08T13:47:40.945Z"
   },
   {
    "duration": 17,
    "start_time": "2023-01-08T13:47:40.981Z"
   },
   {
    "duration": 16,
    "start_time": "2023-01-08T13:47:41.000Z"
   },
   {
    "duration": 127,
    "start_time": "2023-01-08T13:47:41.017Z"
   },
   {
    "duration": 9,
    "start_time": "2023-01-08T13:47:41.146Z"
   },
   {
    "duration": 33,
    "start_time": "2023-01-08T13:47:41.157Z"
   },
   {
    "duration": 4,
    "start_time": "2023-01-08T13:47:41.192Z"
   },
   {
    "duration": 7,
    "start_time": "2023-01-08T13:47:41.197Z"
   },
   {
    "duration": 23,
    "start_time": "2023-01-08T13:47:41.205Z"
   },
   {
    "duration": 248,
    "start_time": "2023-01-08T13:47:41.230Z"
   },
   {
    "duration": 9,
    "start_time": "2023-01-08T13:47:41.480Z"
   },
   {
    "duration": 377,
    "start_time": "2023-01-08T13:47:41.490Z"
   },
   {
    "duration": 202,
    "start_time": "2023-01-08T13:47:41.868Z"
   },
   {
    "duration": 993,
    "start_time": "2023-01-08T13:47:42.072Z"
   },
   {
    "duration": 15,
    "start_time": "2023-01-08T13:47:43.067Z"
   },
   {
    "duration": 5,
    "start_time": "2023-01-08T13:47:43.084Z"
   },
   {
    "duration": 9,
    "start_time": "2023-01-08T13:47:43.091Z"
   },
   {
    "duration": 36,
    "start_time": "2023-01-08T13:47:43.101Z"
   },
   {
    "duration": 56,
    "start_time": "2023-01-08T13:47:43.138Z"
   },
   {
    "duration": 65,
    "start_time": "2023-01-08T13:47:43.196Z"
   },
   {
    "duration": 45,
    "start_time": "2023-01-08T13:47:43.262Z"
   },
   {
    "duration": 100,
    "start_time": "2023-01-08T13:47:43.309Z"
   },
   {
    "duration": 2,
    "start_time": "2023-01-08T13:47:43.410Z"
   },
   {
    "duration": 6,
    "start_time": "2023-01-08T13:47:43.414Z"
   },
   {
    "duration": 14,
    "start_time": "2023-01-08T13:47:43.422Z"
   },
   {
    "duration": 9,
    "start_time": "2023-01-08T13:47:43.437Z"
   },
   {
    "duration": 34,
    "start_time": "2023-01-08T13:47:43.448Z"
   },
   {
    "duration": 95,
    "start_time": "2023-01-08T13:48:26.926Z"
   },
   {
    "duration": 10,
    "start_time": "2023-01-08T13:48:34.805Z"
   },
   {
    "duration": 6,
    "start_time": "2023-01-08T13:48:48.793Z"
   },
   {
    "duration": 932,
    "start_time": "2023-01-08T13:49:03.093Z"
   },
   {
    "duration": 936,
    "start_time": "2023-01-08T13:49:27.806Z"
   },
   {
    "duration": 44,
    "start_time": "2023-01-08T15:04:56.550Z"
   },
   {
    "duration": 1203,
    "start_time": "2023-01-08T15:05:18.257Z"
   },
   {
    "duration": 654,
    "start_time": "2023-01-08T15:05:19.462Z"
   },
   {
    "duration": 11,
    "start_time": "2023-01-08T15:05:20.117Z"
   },
   {
    "duration": 18,
    "start_time": "2023-01-08T15:05:20.130Z"
   },
   {
    "duration": 2,
    "start_time": "2023-01-08T15:05:20.150Z"
   },
   {
    "duration": 57,
    "start_time": "2023-01-08T15:05:20.153Z"
   },
   {
    "duration": 74,
    "start_time": "2023-01-08T15:05:20.212Z"
   },
   {
    "duration": 13,
    "start_time": "2023-01-08T15:05:20.288Z"
   },
   {
    "duration": 43,
    "start_time": "2023-01-08T15:05:20.302Z"
   },
   {
    "duration": 22,
    "start_time": "2023-01-08T15:05:20.347Z"
   },
   {
    "duration": 35,
    "start_time": "2023-01-08T15:05:20.371Z"
   },
   {
    "duration": 103,
    "start_time": "2023-01-08T15:05:20.408Z"
   },
   {
    "duration": 14,
    "start_time": "2023-01-08T15:05:20.513Z"
   },
   {
    "duration": 44,
    "start_time": "2023-01-08T15:05:20.529Z"
   },
   {
    "duration": 39,
    "start_time": "2023-01-08T15:05:20.576Z"
   },
   {
    "duration": 35,
    "start_time": "2023-01-08T15:05:20.617Z"
   },
   {
    "duration": 49,
    "start_time": "2023-01-08T15:05:20.654Z"
   },
   {
    "duration": 213,
    "start_time": "2023-01-08T15:05:20.705Z"
   },
   {
    "duration": 13,
    "start_time": "2023-01-08T15:05:20.919Z"
   },
   {
    "duration": 375,
    "start_time": "2023-01-08T15:05:20.933Z"
   },
   {
    "duration": 188,
    "start_time": "2023-01-08T15:05:21.309Z"
   },
   {
    "duration": 1008,
    "start_time": "2023-01-08T15:05:21.498Z"
   },
   {
    "duration": 9,
    "start_time": "2023-01-08T15:05:22.508Z"
   },
   {
    "duration": 26,
    "start_time": "2023-01-08T15:05:22.526Z"
   },
   {
    "duration": 42,
    "start_time": "2023-01-08T15:05:22.554Z"
   },
   {
    "duration": 78,
    "start_time": "2023-01-08T15:05:22.598Z"
   },
   {
    "duration": 21,
    "start_time": "2023-01-08T15:05:22.678Z"
   },
   {
    "duration": 98,
    "start_time": "2023-01-08T15:05:22.702Z"
   },
   {
    "duration": 35,
    "start_time": "2023-01-08T15:05:22.802Z"
   },
   {
    "duration": 104,
    "start_time": "2023-01-08T15:05:22.839Z"
   },
   {
    "duration": 3,
    "start_time": "2023-01-08T15:05:22.945Z"
   },
   {
    "duration": 59,
    "start_time": "2023-01-08T15:05:22.949Z"
   },
   {
    "duration": 55,
    "start_time": "2023-01-08T15:05:23.010Z"
   },
   {
    "duration": 50,
    "start_time": "2023-01-08T15:05:23.067Z"
   },
   {
    "duration": 37,
    "start_time": "2023-01-08T15:05:23.118Z"
   },
   {
    "duration": 41,
    "start_time": "2023-01-08T15:05:23.157Z"
   },
   {
    "duration": 12,
    "start_time": "2023-01-08T15:10:50.406Z"
   },
   {
    "duration": 9,
    "start_time": "2023-01-08T15:10:52.107Z"
   },
   {
    "duration": 8,
    "start_time": "2023-01-08T15:11:07.537Z"
   },
   {
    "duration": 1060,
    "start_time": "2023-01-08T15:11:13.207Z"
   },
   {
    "duration": 141,
    "start_time": "2023-01-08T15:11:14.268Z"
   },
   {
    "duration": 10,
    "start_time": "2023-01-08T15:11:14.410Z"
   },
   {
    "duration": 17,
    "start_time": "2023-01-08T15:11:14.422Z"
   },
   {
    "duration": 2,
    "start_time": "2023-01-08T15:11:14.441Z"
   },
   {
    "duration": 67,
    "start_time": "2023-01-08T15:11:14.444Z"
   },
   {
    "duration": 68,
    "start_time": "2023-01-08T15:11:14.513Z"
   },
   {
    "duration": 15,
    "start_time": "2023-01-08T15:11:14.583Z"
   },
   {
    "duration": 33,
    "start_time": "2023-01-08T15:11:14.600Z"
   },
   {
    "duration": 17,
    "start_time": "2023-01-08T15:11:14.635Z"
   },
   {
    "duration": 27,
    "start_time": "2023-01-08T15:11:14.653Z"
   },
   {
    "duration": 108,
    "start_time": "2023-01-08T15:11:14.682Z"
   },
   {
    "duration": 9,
    "start_time": "2023-01-08T15:11:14.792Z"
   },
   {
    "duration": 44,
    "start_time": "2023-01-08T15:11:14.802Z"
   },
   {
    "duration": 3,
    "start_time": "2023-01-08T15:11:14.848Z"
   },
   {
    "duration": 22,
    "start_time": "2023-01-08T15:11:14.852Z"
   },
   {
    "duration": 32,
    "start_time": "2023-01-08T15:11:14.876Z"
   },
   {
    "duration": 188,
    "start_time": "2023-01-08T15:11:14.909Z"
   },
   {
    "duration": 8,
    "start_time": "2023-01-08T15:11:15.098Z"
   },
   {
    "duration": 337,
    "start_time": "2023-01-08T15:11:15.108Z"
   },
   {
    "duration": 195,
    "start_time": "2023-01-08T15:11:15.447Z"
   },
   {
    "duration": 18,
    "start_time": "2023-01-08T15:11:15.644Z"
   },
   {
    "duration": 8,
    "start_time": "2023-01-08T15:11:15.664Z"
   },
   {
    "duration": 4,
    "start_time": "2023-01-08T15:11:15.674Z"
   },
   {
    "duration": 10,
    "start_time": "2023-01-08T15:11:15.679Z"
   },
   {
    "duration": 61,
    "start_time": "2023-01-08T15:11:15.691Z"
   },
   {
    "duration": 18,
    "start_time": "2023-01-08T15:11:15.754Z"
   },
   {
    "duration": 64,
    "start_time": "2023-01-08T15:11:15.776Z"
   },
   {
    "duration": 31,
    "start_time": "2023-01-08T15:11:15.842Z"
   },
   {
    "duration": 95,
    "start_time": "2023-01-08T15:11:15.875Z"
   },
   {
    "duration": 2,
    "start_time": "2023-01-08T15:11:15.972Z"
   },
   {
    "duration": 8,
    "start_time": "2023-01-08T15:11:15.976Z"
   },
   {
    "duration": 15,
    "start_time": "2023-01-08T15:11:15.985Z"
   },
   {
    "duration": 27,
    "start_time": "2023-01-08T15:11:16.002Z"
   },
   {
    "duration": 10,
    "start_time": "2023-01-08T15:11:16.031Z"
   },
   {
    "duration": 12,
    "start_time": "2023-01-08T15:11:16.042Z"
   },
   {
    "duration": 54,
    "start_time": "2023-01-08T15:14:52.487Z"
   },
   {
    "duration": 51,
    "start_time": "2023-01-08T15:15:06.362Z"
   },
   {
    "duration": 3,
    "start_time": "2023-01-08T15:16:05.660Z"
   },
   {
    "duration": 7,
    "start_time": "2023-01-08T15:16:11.051Z"
   },
   {
    "duration": 5,
    "start_time": "2023-01-08T15:16:32.400Z"
   },
   {
    "duration": 8,
    "start_time": "2023-01-08T15:16:34.260Z"
   },
   {
    "duration": 4,
    "start_time": "2023-01-08T15:16:44.850Z"
   },
   {
    "duration": 7,
    "start_time": "2023-01-08T15:16:47.101Z"
   },
   {
    "duration": 4,
    "start_time": "2023-01-08T15:17:18.622Z"
   },
   {
    "duration": 8,
    "start_time": "2023-01-08T15:17:20.135Z"
   },
   {
    "duration": 5,
    "start_time": "2023-01-08T15:17:34.098Z"
   },
   {
    "duration": 8,
    "start_time": "2023-01-08T15:17:35.665Z"
   },
   {
    "duration": 4,
    "start_time": "2023-01-08T15:18:18.696Z"
   },
   {
    "duration": 8,
    "start_time": "2023-01-08T15:18:19.451Z"
   },
   {
    "duration": 6,
    "start_time": "2023-01-08T15:18:59.908Z"
   },
   {
    "duration": 8,
    "start_time": "2023-01-08T15:19:01.448Z"
   },
   {
    "duration": 5,
    "start_time": "2023-01-08T15:19:18.500Z"
   },
   {
    "duration": 8,
    "start_time": "2023-01-08T15:19:19.375Z"
   },
   {
    "duration": 5,
    "start_time": "2023-01-08T15:19:36.956Z"
   },
   {
    "duration": 8,
    "start_time": "2023-01-08T15:19:38.175Z"
   },
   {
    "duration": 56,
    "start_time": "2023-01-08T15:39:01.473Z"
   },
   {
    "duration": 5,
    "start_time": "2023-01-08T15:39:36.900Z"
   },
   {
    "duration": 7,
    "start_time": "2023-01-08T15:39:40.088Z"
   },
   {
    "duration": 5,
    "start_time": "2023-01-08T15:39:48.688Z"
   },
   {
    "duration": 8,
    "start_time": "2023-01-08T15:39:49.519Z"
   },
   {
    "duration": 4,
    "start_time": "2023-01-08T15:40:00.874Z"
   },
   {
    "duration": 8,
    "start_time": "2023-01-08T15:40:01.573Z"
   },
   {
    "duration": 7,
    "start_time": "2023-01-08T15:40:25.369Z"
   },
   {
    "duration": 9,
    "start_time": "2023-01-08T15:40:25.721Z"
   },
   {
    "duration": 6,
    "start_time": "2023-01-08T15:40:57.975Z"
   },
   {
    "duration": 8,
    "start_time": "2023-01-08T15:40:58.492Z"
   },
   {
    "duration": 7,
    "start_time": "2023-01-08T15:41:40.720Z"
   },
   {
    "duration": 7,
    "start_time": "2023-01-08T15:41:41.041Z"
   },
   {
    "duration": 47,
    "start_time": "2023-01-08T15:42:36.665Z"
   },
   {
    "duration": 5,
    "start_time": "2023-01-08T15:42:37.030Z"
   },
   {
    "duration": 7,
    "start_time": "2023-01-08T15:42:37.379Z"
   },
   {
    "duration": 69,
    "start_time": "2023-01-08T15:44:32.982Z"
   },
   {
    "duration": 5,
    "start_time": "2023-01-08T15:44:43.309Z"
   },
   {
    "duration": 7,
    "start_time": "2023-01-08T15:44:44.600Z"
   },
   {
    "duration": 5,
    "start_time": "2023-01-08T15:45:12.054Z"
   },
   {
    "duration": 7,
    "start_time": "2023-01-08T15:45:12.592Z"
   },
   {
    "duration": 5,
    "start_time": "2023-01-08T15:45:16.789Z"
   },
   {
    "duration": 8,
    "start_time": "2023-01-08T15:45:17.241Z"
   },
   {
    "duration": 4,
    "start_time": "2023-01-08T15:45:27.955Z"
   },
   {
    "duration": 7,
    "start_time": "2023-01-08T15:45:28.327Z"
   },
   {
    "duration": 83,
    "start_time": "2023-01-08T15:53:06.220Z"
   },
   {
    "duration": 52,
    "start_time": "2023-01-08T15:54:08.225Z"
   },
   {
    "duration": 1060,
    "start_time": "2023-01-08T22:59:15.821Z"
   },
   {
    "duration": 143,
    "start_time": "2023-01-08T22:59:16.883Z"
   },
   {
    "duration": 11,
    "start_time": "2023-01-08T22:59:17.028Z"
   },
   {
    "duration": 20,
    "start_time": "2023-01-08T22:59:17.041Z"
   },
   {
    "duration": 3,
    "start_time": "2023-01-08T22:59:17.063Z"
   },
   {
    "duration": 78,
    "start_time": "2023-01-08T22:59:17.068Z"
   },
   {
    "duration": 74,
    "start_time": "2023-01-08T22:59:17.147Z"
   },
   {
    "duration": 12,
    "start_time": "2023-01-08T22:59:17.223Z"
   },
   {
    "duration": 17,
    "start_time": "2023-01-08T22:59:17.237Z"
   },
   {
    "duration": 15,
    "start_time": "2023-01-08T22:59:17.256Z"
   },
   {
    "duration": 38,
    "start_time": "2023-01-08T22:59:17.273Z"
   },
   {
    "duration": 110,
    "start_time": "2023-01-08T22:59:17.312Z"
   },
   {
    "duration": 8,
    "start_time": "2023-01-08T22:59:17.424Z"
   },
   {
    "duration": 23,
    "start_time": "2023-01-08T22:59:17.435Z"
   },
   {
    "duration": 3,
    "start_time": "2023-01-08T22:59:17.459Z"
   },
   {
    "duration": 7,
    "start_time": "2023-01-08T22:59:17.463Z"
   },
   {
    "duration": 44,
    "start_time": "2023-01-08T22:59:17.472Z"
   },
   {
    "duration": 202,
    "start_time": "2023-01-08T22:59:17.518Z"
   },
   {
    "duration": 7,
    "start_time": "2023-01-08T22:59:17.722Z"
   },
   {
    "duration": 368,
    "start_time": "2023-01-08T22:59:17.731Z"
   },
   {
    "duration": 189,
    "start_time": "2023-01-08T22:59:18.105Z"
   },
   {
    "duration": 19,
    "start_time": "2023-01-08T22:59:18.295Z"
   },
   {
    "duration": 8,
    "start_time": "2023-01-08T22:59:18.316Z"
   },
   {
    "duration": 5,
    "start_time": "2023-01-08T22:59:18.326Z"
   },
   {
    "duration": 7,
    "start_time": "2023-01-08T22:59:18.332Z"
   },
   {
    "duration": 58,
    "start_time": "2023-01-08T22:59:18.340Z"
   },
   {
    "duration": 20,
    "start_time": "2023-01-08T22:59:18.399Z"
   },
   {
    "duration": 97,
    "start_time": "2023-01-08T22:59:18.420Z"
   },
   {
    "duration": 32,
    "start_time": "2023-01-08T22:59:18.519Z"
   },
   {
    "duration": 104,
    "start_time": "2023-01-08T22:59:18.552Z"
   },
   {
    "duration": 3,
    "start_time": "2023-01-08T22:59:18.657Z"
   },
   {
    "duration": 22,
    "start_time": "2023-01-08T22:59:18.661Z"
   },
   {
    "duration": 40,
    "start_time": "2023-01-08T22:59:18.684Z"
   },
   {
    "duration": 15,
    "start_time": "2023-01-08T22:59:18.725Z"
   },
   {
    "duration": 10,
    "start_time": "2023-01-08T22:59:18.742Z"
   },
   {
    "duration": 11,
    "start_time": "2023-01-08T22:59:18.754Z"
   },
   {
    "duration": 11,
    "start_time": "2023-01-08T23:01:10.663Z"
   },
   {
    "duration": 11,
    "start_time": "2023-01-08T23:01:19.582Z"
   }
  ],
  "kernelspec": {
   "display_name": "Python 3 (ipykernel)",
   "language": "python",
   "name": "python3"
  },
  "language_info": {
   "codemirror_mode": {
    "name": "ipython",
    "version": 3
   },
   "file_extension": ".py",
   "mimetype": "text/x-python",
   "name": "python",
   "nbconvert_exporter": "python",
   "pygments_lexer": "ipython3",
   "version": "3.10.9"
  },
  "toc": {
   "base_numbering": 1,
   "nav_menu": {},
   "number_sections": false,
   "sideBar": true,
   "skip_h1_title": false,
   "title_cell": "Table of Contents",
   "title_sidebar": "Contents",
   "toc_cell": false,
   "toc_position": {
    "height": "calc(100% - 180px)",
    "left": "10px",
    "top": "150px",
    "width": "255.094px"
   },
   "toc_section_display": true,
   "toc_window_display": true
  }
 },
 "nbformat": 4,
 "nbformat_minor": 2
}
