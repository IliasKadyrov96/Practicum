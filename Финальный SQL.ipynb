{
 "cells": [
  {
   "cell_type": "markdown",
   "id": "d8dcea13",
   "metadata": {},
   "source": [
    "# SQL "
   ]
  },
  {
   "cell_type": "markdown",
   "id": "4987e174",
   "metadata": {},
   "source": [
    "Коронавирус застал мир врасплох, изменив привычный порядок вещей. В свободное время жители городов больше не выходят на улицу, не посещают кафе и торговые центры. Зато стало больше времени для книг. Это заметили стартаперы — и бросились создавать приложения для тех, кто любит читать.\n",
    "\n",
    "Ваша компания решила быть на волне и купила крупный сервис для чтения книг по подписке. Ваша первая задача как аналитика — проанализировать базу данных.\n",
    "В ней — информация о книгах, издательствах, авторах, а также пользовательские обзоры книг. Эти данные помогут сформулировать ценностное предложение для нового продукта."
   ]
  },
  {
   "cell_type": "markdown",
   "id": "fe52ae2c",
   "metadata": {},
   "source": [
    "### Задания\n",
    "\n",
    "- 1) Посчитайте, сколько книг вышло после 1 января 2000 года;\n",
    "- 2) Для каждой книги посчитайте количество обзоров и среднюю оценку;\n",
    "- 3) Определите издательство, которое выпустило наибольшее число книг толще 50 страниц — так вы исключите из анализа брошюры;\n",
    "- 4) Определите автора с самой высокой средней оценкой книг — учитывайте только книги с 50 и более оценками;\n",
    "- 5) Посчитайте среднее количество обзоров от пользователей, которые поставили больше 50 оценок."
   ]
  },
  {
   "cell_type": "markdown",
   "id": "1d8cab7f",
   "metadata": {},
   "source": [
    "### Описание данных\n",
    "\n",
    "**Таблица `books`**\n",
    "\n",
    "Содержит данные о книгах:\n",
    "\n",
    "- `book_id` — идентификатор книги;\n",
    "- `author_id` — идентификатор автора;\n",
    "- `title` — название книги;\n",
    "- `num_pages` — количество страниц;\n",
    "- `publication_date` — дата публикации книги;\n",
    "- `publisher_id` — идентификатор издателя.\n",
    "\n",
    "**Таблица `authors`**\n",
    "\n",
    "Содержит данные об авторах:\n",
    "\n",
    "- `author_id` — идентификатор автора;\n",
    "- `author` — имя автора.\n",
    "\n",
    "**Таблица `publishers`**\n",
    "\n",
    "Содержит данные об издательствах:\n",
    "\n",
    "- `publisher_id` — идентификатор издательства;\n",
    "- `publisher` — название издательства;\n",
    "\n",
    "**Таблица `ratings`**\n",
    "\n",
    "Содержит данные о пользовательских оценках книг:\n",
    "\n",
    "- `rating_id` — идентификатор оценки;\n",
    "- `book_id` — идентификатор книги;\n",
    "- `username` — имя пользователя, оставившего оценку;\n",
    "- `rating` — оценка книги.\n",
    "\n",
    "**Таблица `reviews`**\n",
    "\n",
    "Содержит данные о пользовательских обзорах на книги:\n",
    "\n",
    "- `review_id` — идентификатор обзора;\n",
    "- `book_id` — идентификатор книги;\n",
    "- `username` — имя пользователя, написавшего обзор;\n",
    "- `text` — текст обзора."
   ]
  },
  {
   "cell_type": "markdown",
   "id": "3db1aa7e",
   "metadata": {},
   "source": [
    "# Подготовка к работе"
   ]
  },
  {
   "cell_type": "code",
   "execution_count": 1,
   "id": "6f2a509e",
   "metadata": {},
   "outputs": [],
   "source": [
    "# импортируем библиотеки\n",
    "import pandas as pd\n",
    "from sqlalchemy import create_engine\n",
    "# устанавливаем параметры\n",
    "db_config = {'user': 'praktikum_student', # имя пользователя\n",
    "'pwd': 'Sdf4$2;d-d30pp', # пароль\n",
    "'host': 'rc1b-wcoijxj3yxfsf3fs.mdb.yandexcloud.net',\n",
    "'port': 6432, # порт подключения\n",
    "'db': 'data-analyst-final-project-db'} # название базы данных\n",
    "connection_string = 'postgresql://{}:{}@{}:{}/{}'.format(db_config['user'],\n",
    " db_config['pwd'],\n",
    " db_config['host'],\n",
    " db_config['port'],\n",
    " db_config['db'])"
   ]
  },
  {
   "cell_type": "code",
   "execution_count": 2,
   "id": "381c9b26",
   "metadata": {},
   "outputs": [],
   "source": [
    "# сохраняем коннектор\n",
    "engine = create_engine(connection_string, connect_args={'sslmode':'require'}) "
   ]
  },
  {
   "cell_type": "markdown",
   "id": "bfe68196",
   "metadata": {},
   "source": [
    "### Задание 1"
   ]
  },
  {
   "cell_type": "code",
   "execution_count": 3,
   "id": "4f5d0a05",
   "metadata": {},
   "outputs": [],
   "source": [
    "task = '''\n",
    "    SELECT COUNT(book_id),\n",
    "           COUNT(title)\n",
    "    FROM books\n",
    "    WHERE publication_date > '1999-12-31'\n",
    "'''"
   ]
  },
  {
   "cell_type": "code",
   "execution_count": 4,
   "id": "8b0c4b8e",
   "metadata": {},
   "outputs": [
    {
     "data": {
      "text/html": [
       "<div>\n",
       "<style scoped>\n",
       "    .dataframe tbody tr th:only-of-type {\n",
       "        vertical-align: middle;\n",
       "    }\n",
       "\n",
       "    .dataframe tbody tr th {\n",
       "        vertical-align: top;\n",
       "    }\n",
       "\n",
       "    .dataframe thead th {\n",
       "        text-align: right;\n",
       "    }\n",
       "</style>\n",
       "<table border=\"1\" class=\"dataframe\">\n",
       "  <thead>\n",
       "    <tr style=\"text-align: right;\">\n",
       "      <th></th>\n",
       "      <th>count</th>\n",
       "      <th>count</th>\n",
       "    </tr>\n",
       "  </thead>\n",
       "  <tbody>\n",
       "    <tr>\n",
       "      <th>0</th>\n",
       "      <td>821</td>\n",
       "      <td>821</td>\n",
       "    </tr>\n",
       "  </tbody>\n",
       "</table>\n",
       "</div>"
      ],
      "text/plain": [
       "   count  count\n",
       "0    821    821"
      ]
     },
     "execution_count": 4,
     "metadata": {},
     "output_type": "execute_result"
    }
   ],
   "source": [
    "pd.io.sql.read_sql(task, con = engine) "
   ]
  },
  {
   "cell_type": "markdown",
   "id": "cbbdec20",
   "metadata": {},
   "source": [
    "**C начала 2000 года была выпущена 821 книга.\n",
    "Дополнильно проверили по названию книг.** "
   ]
  },
  {
   "cell_type": "markdown",
   "id": "07c8aa0a",
   "metadata": {},
   "source": [
    "### Задание 2"
   ]
  },
  {
   "cell_type": "code",
   "execution_count": 5,
   "id": "02c236c5",
   "metadata": {},
   "outputs": [],
   "source": [
    "task_2 = '''\n",
    "          SELECT book_id,\n",
    "                 COUNT(review_id) AS count_review,\n",
    "                 ROUND(AVG(rating), 2) AS avg_rating\n",
    "          FROM (SELECT re.book_id,\n",
    "                       re.review_id,\n",
    "                       rat.rating\n",
    "                FROM reviews AS re\n",
    "                INNER JOIN ratings AS rat ON re.book_id = rat.book_id) AS filt   \n",
    "          GROUP BY book_id\n",
    "          ORDER BY avg_rating DESC\n",
    "'''"
   ]
  },
  {
   "cell_type": "code",
   "execution_count": 6,
   "id": "128e5bd2",
   "metadata": {},
   "outputs": [],
   "source": [
    "#pd.io.sql.read_sql(task_2, con = engine)"
   ]
  },
  {
   "cell_type": "code",
   "execution_count": 7,
   "id": "a57bf789",
   "metadata": {},
   "outputs": [],
   "source": [
    "task_2 = '''\n",
    "SELECT b.title,\n",
    "       b.book_id,\n",
    "    rev.review_count AS review_count,\n",
    "    rat.rating_avg AS rating_avg\n",
    "FROM books AS b \n",
    "LEFT JOIN (SELECT book_id,\n",
    "                  AVG(rating) AS rating_avg\n",
    "           FROM ratings\n",
    "           GROUP BY book_id) AS rat ON rat.book_id = b.book_id\n",
    "LEFT JOIN (SELECT book_id,\n",
    "                  COUNT(review_id) AS review_count\n",
    "          FROM reviews\n",
    "          GROUP BY book_id) AS rev ON rev.book_id = b.book_id\n",
    "ORDER BY review_count DESC;\n",
    "'''              "
   ]
  },
  {
   "cell_type": "code",
   "execution_count": 8,
   "id": "0fa18468",
   "metadata": {},
   "outputs": [
    {
     "data": {
      "text/html": [
       "<div>\n",
       "<style scoped>\n",
       "    .dataframe tbody tr th:only-of-type {\n",
       "        vertical-align: middle;\n",
       "    }\n",
       "\n",
       "    .dataframe tbody tr th {\n",
       "        vertical-align: top;\n",
       "    }\n",
       "\n",
       "    .dataframe thead th {\n",
       "        text-align: right;\n",
       "    }\n",
       "</style>\n",
       "<table border=\"1\" class=\"dataframe\">\n",
       "  <thead>\n",
       "    <tr style=\"text-align: right;\">\n",
       "      <th></th>\n",
       "      <th>title</th>\n",
       "      <th>book_id</th>\n",
       "      <th>review_count</th>\n",
       "      <th>rating_avg</th>\n",
       "    </tr>\n",
       "  </thead>\n",
       "  <tbody>\n",
       "    <tr>\n",
       "      <th>0</th>\n",
       "      <td>The Natural Way to Draw</td>\n",
       "      <td>808</td>\n",
       "      <td>NaN</td>\n",
       "      <td>3.000000</td>\n",
       "    </tr>\n",
       "    <tr>\n",
       "      <th>1</th>\n",
       "      <td>Disney's Beauty and the Beast (A Little Golden...</td>\n",
       "      <td>191</td>\n",
       "      <td>NaN</td>\n",
       "      <td>4.000000</td>\n",
       "    </tr>\n",
       "    <tr>\n",
       "      <th>2</th>\n",
       "      <td>Essential Tales and Poems</td>\n",
       "      <td>221</td>\n",
       "      <td>NaN</td>\n",
       "      <td>4.000000</td>\n",
       "    </tr>\n",
       "    <tr>\n",
       "      <th>3</th>\n",
       "      <td>Anne Rice's The Vampire Lestat: A Graphic Novel</td>\n",
       "      <td>83</td>\n",
       "      <td>NaN</td>\n",
       "      <td>3.666667</td>\n",
       "    </tr>\n",
       "    <tr>\n",
       "      <th>4</th>\n",
       "      <td>Leonardo's Notebooks</td>\n",
       "      <td>387</td>\n",
       "      <td>NaN</td>\n",
       "      <td>4.000000</td>\n",
       "    </tr>\n",
       "    <tr>\n",
       "      <th>...</th>\n",
       "      <td>...</td>\n",
       "      <td>...</td>\n",
       "      <td>...</td>\n",
       "      <td>...</td>\n",
       "    </tr>\n",
       "    <tr>\n",
       "      <th>995</th>\n",
       "      <td>Stone of Farewell (Memory  Sorrow  and Thorn  #2)</td>\n",
       "      <td>599</td>\n",
       "      <td>1.0</td>\n",
       "      <td>5.000000</td>\n",
       "    </tr>\n",
       "    <tr>\n",
       "      <th>996</th>\n",
       "      <td>Debt of Honor (Jack Ryan  #7)</td>\n",
       "      <td>187</td>\n",
       "      <td>1.0</td>\n",
       "      <td>3.000000</td>\n",
       "    </tr>\n",
       "    <tr>\n",
       "      <th>997</th>\n",
       "      <td>Color: A Natural History of the Palette</td>\n",
       "      <td>156</td>\n",
       "      <td>1.0</td>\n",
       "      <td>4.333333</td>\n",
       "    </tr>\n",
       "    <tr>\n",
       "      <th>998</th>\n",
       "      <td>Winter Prey (Lucas Davenport  #5)</td>\n",
       "      <td>984</td>\n",
       "      <td>1.0</td>\n",
       "      <td>4.500000</td>\n",
       "    </tr>\n",
       "    <tr>\n",
       "      <th>999</th>\n",
       "      <td>The Iliad/The Odyssey</td>\n",
       "      <td>760</td>\n",
       "      <td>1.0</td>\n",
       "      <td>4.000000</td>\n",
       "    </tr>\n",
       "  </tbody>\n",
       "</table>\n",
       "<p>1000 rows × 4 columns</p>\n",
       "</div>"
      ],
      "text/plain": [
       "                                                 title  book_id  review_count  \\\n",
       "0                              The Natural Way to Draw      808           NaN   \n",
       "1    Disney's Beauty and the Beast (A Little Golden...      191           NaN   \n",
       "2                            Essential Tales and Poems      221           NaN   \n",
       "3      Anne Rice's The Vampire Lestat: A Graphic Novel       83           NaN   \n",
       "4                                 Leonardo's Notebooks      387           NaN   \n",
       "..                                                 ...      ...           ...   \n",
       "995  Stone of Farewell (Memory  Sorrow  and Thorn  #2)      599           1.0   \n",
       "996                      Debt of Honor (Jack Ryan  #7)      187           1.0   \n",
       "997            Color: A Natural History of the Palette      156           1.0   \n",
       "998                  Winter Prey (Lucas Davenport  #5)      984           1.0   \n",
       "999                              The Iliad/The Odyssey      760           1.0   \n",
       "\n",
       "     rating_avg  \n",
       "0      3.000000  \n",
       "1      4.000000  \n",
       "2      4.000000  \n",
       "3      3.666667  \n",
       "4      4.000000  \n",
       "..          ...  \n",
       "995    5.000000  \n",
       "996    3.000000  \n",
       "997    4.333333  \n",
       "998    4.500000  \n",
       "999    4.000000  \n",
       "\n",
       "[1000 rows x 4 columns]"
      ]
     },
     "execution_count": 8,
     "metadata": {},
     "output_type": "execute_result"
    }
   ],
   "source": [
    "pd.io.sql.read_sql(task_2, con = engine)"
   ]
  },
  {
   "cell_type": "markdown",
   "id": "8d621926",
   "metadata": {},
   "source": [
    "**Количество обзоров и средняя оценка книг**"
   ]
  },
  {
   "cell_type": "markdown",
   "id": "77409f5b",
   "metadata": {},
   "source": [
    "### Задание 3"
   ]
  },
  {
   "cell_type": "code",
   "execution_count": 9,
   "id": "24f9196a",
   "metadata": {},
   "outputs": [],
   "source": [
    "task_3 = \"\"\"\n",
    "         SELECT publisher,\n",
    "                COUNT(book_id) \n",
    "         FROM publishers AS pub\n",
    "         INNER JOIN books as bo ON pub.publisher_id = bo.publisher_id\n",
    "         WHERE num_pages > 50\n",
    "         GROUP BY publisher\n",
    "         ORDER BY COUNT DESC\n",
    "         LIMIT 1\n",
    "\"\"\""
   ]
  },
  {
   "cell_type": "code",
   "execution_count": 10,
   "id": "0e352d8e",
   "metadata": {},
   "outputs": [
    {
     "data": {
      "text/html": [
       "<div>\n",
       "<style scoped>\n",
       "    .dataframe tbody tr th:only-of-type {\n",
       "        vertical-align: middle;\n",
       "    }\n",
       "\n",
       "    .dataframe tbody tr th {\n",
       "        vertical-align: top;\n",
       "    }\n",
       "\n",
       "    .dataframe thead th {\n",
       "        text-align: right;\n",
       "    }\n",
       "</style>\n",
       "<table border=\"1\" class=\"dataframe\">\n",
       "  <thead>\n",
       "    <tr style=\"text-align: right;\">\n",
       "      <th></th>\n",
       "      <th>publisher</th>\n",
       "      <th>count</th>\n",
       "    </tr>\n",
       "  </thead>\n",
       "  <tbody>\n",
       "    <tr>\n",
       "      <th>0</th>\n",
       "      <td>Penguin Books</td>\n",
       "      <td>42</td>\n",
       "    </tr>\n",
       "  </tbody>\n",
       "</table>\n",
       "</div>"
      ],
      "text/plain": [
       "       publisher  count\n",
       "0  Penguin Books     42"
      ]
     },
     "execution_count": 10,
     "metadata": {},
     "output_type": "execute_result"
    }
   ],
   "source": [
    "pd.io.sql.read_sql(task_3, con = engine)"
   ]
  },
  {
   "cell_type": "markdown",
   "id": "d2987c0f",
   "metadata": {},
   "source": [
    "**Penguin Books - издательство, которое выпустило наибольшее число книг толще 50 страниц**"
   ]
  },
  {
   "cell_type": "markdown",
   "id": "2a20ec4a",
   "metadata": {},
   "source": [
    "### Задание 4"
   ]
  },
  {
   "cell_type": "code",
   "execution_count": 11,
   "id": "aa153885",
   "metadata": {},
   "outputs": [],
   "source": [
    "task_4 = \"\"\"\n",
    "       SELECT a.author,\n",
    "       ROUND(AVG(rat.rating), 2) as rating_avg\n",
    "FROM authors AS a\n",
    "LEFT JOIN books AS b ON b.author_id=a.author_id\n",
    "LEFT JOIN ratings AS rat ON rat.book_id=b.book_id\n",
    "WHERE b.book_id IN (SELECT  book_id\n",
    "                    FROM ratings\n",
    "                    GROUP BY book_id\n",
    "                    HAVING COUNT(rating) >= 50)\n",
    "GROUP BY a.author\n",
    "ORDER BY AVG(rat.rating) DESC\n",
    "LIMIT 1\n",
    "\"\"\""
   ]
  },
  {
   "cell_type": "code",
   "execution_count": 12,
   "id": "fd8d70f2",
   "metadata": {},
   "outputs": [
    {
     "data": {
      "text/html": [
       "<div>\n",
       "<style scoped>\n",
       "    .dataframe tbody tr th:only-of-type {\n",
       "        vertical-align: middle;\n",
       "    }\n",
       "\n",
       "    .dataframe tbody tr th {\n",
       "        vertical-align: top;\n",
       "    }\n",
       "\n",
       "    .dataframe thead th {\n",
       "        text-align: right;\n",
       "    }\n",
       "</style>\n",
       "<table border=\"1\" class=\"dataframe\">\n",
       "  <thead>\n",
       "    <tr style=\"text-align: right;\">\n",
       "      <th></th>\n",
       "      <th>author</th>\n",
       "      <th>rating_avg</th>\n",
       "    </tr>\n",
       "  </thead>\n",
       "  <tbody>\n",
       "    <tr>\n",
       "      <th>0</th>\n",
       "      <td>J.K. Rowling/Mary GrandPré</td>\n",
       "      <td>4.29</td>\n",
       "    </tr>\n",
       "  </tbody>\n",
       "</table>\n",
       "</div>"
      ],
      "text/plain": [
       "                       author  rating_avg\n",
       "0  J.K. Rowling/Mary GrandPré        4.29"
      ]
     },
     "execution_count": 12,
     "metadata": {},
     "output_type": "execute_result"
    }
   ],
   "source": [
    "pd.io.sql.read_sql(task_4, con = engine)"
   ]
  },
  {
   "cell_type": "markdown",
   "id": "a1f56e39",
   "metadata": {},
   "source": [
    "### Задание 5"
   ]
  },
  {
   "cell_type": "code",
   "execution_count": 14,
   "id": "69c21391",
   "metadata": {},
   "outputs": [],
   "source": [
    "task_5 = \"\"\"\n",
    "WITH\n",
    "reviews AS (SELECT username,\n",
    "                   COUNT(review_id) AS count_review\n",
    "            FROM reviews\n",
    "            GROUP BY username),\n",
    "            \n",
    "ratings AS (SELECT username,\n",
    "                   COUNT(rating_id) AS count_rating\n",
    "            FROM ratings \n",
    "            GROUP BY username)\n",
    "            \n",
    "SELECT ROUND(AVG(reviews.count_review), 1)\n",
    "FROM reviews JOIN ratings ON reviews.username = ratings.username\n",
    "WHERE ratings.count_rating > 50\n",
    "\"\"\""
   ]
  },
  {
   "cell_type": "code",
   "execution_count": 15,
   "id": "9541b292",
   "metadata": {},
   "outputs": [
    {
     "data": {
      "text/html": [
       "<div>\n",
       "<style scoped>\n",
       "    .dataframe tbody tr th:only-of-type {\n",
       "        vertical-align: middle;\n",
       "    }\n",
       "\n",
       "    .dataframe tbody tr th {\n",
       "        vertical-align: top;\n",
       "    }\n",
       "\n",
       "    .dataframe thead th {\n",
       "        text-align: right;\n",
       "    }\n",
       "</style>\n",
       "<table border=\"1\" class=\"dataframe\">\n",
       "  <thead>\n",
       "    <tr style=\"text-align: right;\">\n",
       "      <th></th>\n",
       "      <th>round</th>\n",
       "    </tr>\n",
       "  </thead>\n",
       "  <tbody>\n",
       "    <tr>\n",
       "      <th>0</th>\n",
       "      <td>24.3</td>\n",
       "    </tr>\n",
       "  </tbody>\n",
       "</table>\n",
       "</div>"
      ],
      "text/plain": [
       "   round\n",
       "0   24.3"
      ]
     },
     "execution_count": 15,
     "metadata": {},
     "output_type": "execute_result"
    }
   ],
   "source": [
    "pd.io.sql.read_sql(task_5, con = engine)"
   ]
  },
  {
   "cell_type": "markdown",
   "id": "d17d3ec2",
   "metadata": {},
   "source": [
    "**24.33 - среднее количество обзоров от пользователей, которые поставили больше 50 оценок.**"
   ]
  }
 ],
 "metadata": {
  "ExecuteTimeLog": [
   {
    "duration": 8649,
    "start_time": "2023-03-07T02:32:21.738Z"
   },
   {
    "duration": 4,
    "start_time": "2023-03-07T02:32:30.390Z"
   },
   {
    "duration": 463,
    "start_time": "2023-03-07T02:32:30.397Z"
   },
   {
    "duration": 0,
    "start_time": "2023-03-07T02:32:30.862Z"
   },
   {
    "duration": 0,
    "start_time": "2023-03-07T02:32:30.863Z"
   },
   {
    "duration": 0,
    "start_time": "2023-03-07T02:32:30.864Z"
   },
   {
    "duration": 0,
    "start_time": "2023-03-07T02:32:30.865Z"
   },
   {
    "duration": 0,
    "start_time": "2023-03-07T02:32:30.866Z"
   },
   {
    "duration": 0,
    "start_time": "2023-03-07T02:32:30.868Z"
   },
   {
    "duration": 0,
    "start_time": "2023-03-07T02:32:30.868Z"
   },
   {
    "duration": 0,
    "start_time": "2023-03-07T02:32:30.869Z"
   },
   {
    "duration": 3,
    "start_time": "2023-03-07T02:33:10.688Z"
   },
   {
    "duration": 85,
    "start_time": "2023-03-07T02:33:10.872Z"
   },
   {
    "duration": 6,
    "start_time": "2023-03-07T02:34:04.110Z"
   },
   {
    "duration": 102,
    "start_time": "2023-03-07T02:34:04.306Z"
   },
   {
    "duration": 3,
    "start_time": "2023-03-07T02:35:08.948Z"
   },
   {
    "duration": 4,
    "start_time": "2023-03-07T02:35:09.096Z"
   },
   {
    "duration": 3,
    "start_time": "2023-03-07T02:35:42.635Z"
   },
   {
    "duration": 5,
    "start_time": "2023-03-07T02:35:42.987Z"
   },
   {
    "duration": 9687,
    "start_time": "2023-03-07T02:35:47.668Z"
   },
   {
    "duration": 3,
    "start_time": "2023-03-07T02:35:57.358Z"
   },
   {
    "duration": 303,
    "start_time": "2023-03-07T02:35:57.363Z"
   },
   {
    "duration": 3,
    "start_time": "2023-03-07T02:35:57.668Z"
   },
   {
    "duration": 134,
    "start_time": "2023-03-07T02:35:57.673Z"
   },
   {
    "duration": 3,
    "start_time": "2023-03-07T02:35:57.809Z"
   },
   {
    "duration": 6,
    "start_time": "2023-03-07T02:35:57.813Z"
   },
   {
    "duration": 6,
    "start_time": "2023-03-07T02:35:57.821Z"
   },
   {
    "duration": 4,
    "start_time": "2023-03-07T02:35:57.829Z"
   },
   {
    "duration": 83,
    "start_time": "2023-03-07T02:35:57.835Z"
   },
   {
    "duration": 3,
    "start_time": "2023-03-07T02:35:57.920Z"
   },
   {
    "duration": 104,
    "start_time": "2023-03-07T02:35:57.924Z"
   },
   {
    "duration": 3,
    "start_time": "2023-03-07T02:35:58.029Z"
   },
   {
    "duration": 83,
    "start_time": "2023-03-07T02:35:58.036Z"
   },
   {
    "duration": 3,
    "start_time": "2023-03-07T02:36:31.344Z"
   },
   {
    "duration": 81,
    "start_time": "2023-03-07T02:36:31.536Z"
   },
   {
    "duration": 4,
    "start_time": "2023-03-07T02:36:35.781Z"
   },
   {
    "duration": 81,
    "start_time": "2023-03-07T02:36:35.982Z"
   },
   {
    "duration": 9107,
    "start_time": "2023-03-07T02:44:25.521Z"
   },
   {
    "duration": 3,
    "start_time": "2023-03-07T02:44:34.629Z"
   },
   {
    "duration": 263,
    "start_time": "2023-03-07T02:44:34.634Z"
   },
   {
    "duration": 3,
    "start_time": "2023-03-07T02:44:34.899Z"
   },
   {
    "duration": 104,
    "start_time": "2023-03-07T02:44:34.904Z"
   },
   {
    "duration": 3,
    "start_time": "2023-03-07T02:44:35.010Z"
   },
   {
    "duration": 6,
    "start_time": "2023-03-07T02:44:35.015Z"
   },
   {
    "duration": 16,
    "start_time": "2023-03-07T02:44:35.022Z"
   },
   {
    "duration": 6,
    "start_time": "2023-03-07T02:44:35.040Z"
   },
   {
    "duration": 84,
    "start_time": "2023-03-07T02:44:35.049Z"
   },
   {
    "duration": 3,
    "start_time": "2023-03-07T02:44:35.135Z"
   },
   {
    "duration": 101,
    "start_time": "2023-03-07T02:44:35.140Z"
   },
   {
    "duration": 3,
    "start_time": "2023-03-07T02:44:35.243Z"
   },
   {
    "duration": 91,
    "start_time": "2023-03-07T02:44:35.249Z"
   },
   {
    "duration": 3,
    "start_time": "2023-03-07T02:44:55.588Z"
   },
   {
    "duration": 4,
    "start_time": "2023-03-07T02:44:55.748Z"
   },
   {
    "duration": 566,
    "start_time": "2023-03-07T02:45:31.373Z"
   },
   {
    "duration": 8562,
    "start_time": "2023-03-07T02:45:31.941Z"
   },
   {
    "duration": 3,
    "start_time": "2023-03-07T02:45:40.506Z"
   },
   {
    "duration": 293,
    "start_time": "2023-03-07T02:45:40.511Z"
   },
   {
    "duration": 3,
    "start_time": "2023-03-07T02:45:40.807Z"
   },
   {
    "duration": 110,
    "start_time": "2023-03-07T02:45:40.812Z"
   },
   {
    "duration": 2,
    "start_time": "2023-03-07T02:45:40.924Z"
   },
   {
    "duration": 10,
    "start_time": "2023-03-07T02:45:40.928Z"
   },
   {
    "duration": 7,
    "start_time": "2023-03-07T02:45:40.940Z"
   },
   {
    "duration": 81,
    "start_time": "2023-03-07T02:45:40.949Z"
   },
   {
    "duration": 3,
    "start_time": "2023-03-07T02:45:41.031Z"
   },
   {
    "duration": 84,
    "start_time": "2023-03-07T02:45:41.036Z"
   },
   {
    "duration": 3,
    "start_time": "2023-03-07T02:45:41.122Z"
   },
   {
    "duration": 82,
    "start_time": "2023-03-07T02:45:41.127Z"
   },
   {
    "duration": 239,
    "start_time": "2023-03-07T02:46:33.691Z"
   },
   {
    "duration": 2,
    "start_time": "2023-03-07T02:46:35.711Z"
   },
   {
    "duration": 156,
    "start_time": "2023-03-07T02:46:36.069Z"
   },
   {
    "duration": 3,
    "start_time": "2023-03-07T02:46:46.843Z"
   },
   {
    "duration": 180,
    "start_time": "2023-03-07T02:46:48.965Z"
   },
   {
    "duration": 3,
    "start_time": "2023-03-07T02:46:58.347Z"
   },
   {
    "duration": 83,
    "start_time": "2023-03-07T02:46:58.627Z"
   },
   {
    "duration": 72,
    "start_time": "2023-03-07T02:47:37.949Z"
   },
   {
    "duration": 112,
    "start_time": "2023-03-07T02:52:08.041Z"
   },
   {
    "duration": 188,
    "start_time": "2023-03-07T02:53:01.567Z"
   },
   {
    "duration": 110,
    "start_time": "2023-03-07T02:53:12.546Z"
   },
   {
    "duration": 2,
    "start_time": "2023-03-07T02:53:19.199Z"
   },
   {
    "duration": 110,
    "start_time": "2023-03-07T02:53:43.293Z"
   },
   {
    "duration": 2,
    "start_time": "2023-03-07T02:53:48.380Z"
   },
   {
    "duration": 112,
    "start_time": "2023-03-07T02:53:48.876Z"
   },
   {
    "duration": 3,
    "start_time": "2023-03-07T02:54:02.745Z"
   },
   {
    "duration": 111,
    "start_time": "2023-03-07T02:54:02.901Z"
   },
   {
    "duration": 3,
    "start_time": "2023-03-07T02:55:12.370Z"
   },
   {
    "duration": 176,
    "start_time": "2023-03-07T02:55:12.580Z"
   },
   {
    "duration": 3,
    "start_time": "2023-03-07T02:55:57.685Z"
   },
   {
    "duration": 176,
    "start_time": "2023-03-07T02:55:57.869Z"
   },
   {
    "duration": 4,
    "start_time": "2023-03-07T02:56:09.474Z"
   },
   {
    "duration": 115,
    "start_time": "2023-03-07T02:56:09.786Z"
   },
   {
    "duration": 3,
    "start_time": "2023-03-07T02:57:04.937Z"
   },
   {
    "duration": 184,
    "start_time": "2023-03-07T02:57:05.105Z"
   },
   {
    "duration": 3,
    "start_time": "2023-03-07T02:57:20.828Z"
   },
   {
    "duration": 76,
    "start_time": "2023-03-07T02:57:21.003Z"
   },
   {
    "duration": 3,
    "start_time": "2023-03-07T03:00:56.369Z"
   },
   {
    "duration": 175,
    "start_time": "2023-03-07T03:00:56.526Z"
   },
   {
    "duration": 5,
    "start_time": "2023-03-07T03:01:31.678Z"
   },
   {
    "duration": 193,
    "start_time": "2023-03-07T03:01:31.948Z"
   },
   {
    "duration": 7,
    "start_time": "2023-03-07T03:02:55.676Z"
   },
   {
    "duration": 179,
    "start_time": "2023-03-07T03:02:55.827Z"
   },
   {
    "duration": 3,
    "start_time": "2023-03-07T03:03:12.545Z"
   },
   {
    "duration": 92,
    "start_time": "2023-03-07T03:03:12.748Z"
   },
   {
    "duration": 4,
    "start_time": "2023-03-07T03:03:28.804Z"
   },
   {
    "duration": 84,
    "start_time": "2023-03-07T03:03:28.990Z"
   },
   {
    "duration": 81,
    "start_time": "2023-03-07T03:04:14.036Z"
   },
   {
    "duration": 520,
    "start_time": "2023-03-07T03:04:29.523Z"
   },
   {
    "duration": 8459,
    "start_time": "2023-03-07T03:04:30.045Z"
   },
   {
    "duration": 3,
    "start_time": "2023-03-07T03:04:38.506Z"
   },
   {
    "duration": 273,
    "start_time": "2023-03-07T03:04:38.510Z"
   },
   {
    "duration": 4,
    "start_time": "2023-03-07T03:04:38.786Z"
   },
   {
    "duration": 6,
    "start_time": "2023-03-07T03:04:38.792Z"
   },
   {
    "duration": 8,
    "start_time": "2023-03-07T03:04:38.800Z"
   },
   {
    "duration": 121,
    "start_time": "2023-03-07T03:04:38.809Z"
   },
   {
    "duration": 3,
    "start_time": "2023-03-07T03:04:38.932Z"
   },
   {
    "duration": 82,
    "start_time": "2023-03-07T03:04:38.937Z"
   },
   {
    "duration": 2,
    "start_time": "2023-03-07T03:04:39.021Z"
   },
   {
    "duration": 95,
    "start_time": "2023-03-07T03:04:39.025Z"
   },
   {
    "duration": 3,
    "start_time": "2023-03-07T03:04:39.121Z"
   },
   {
    "duration": 82,
    "start_time": "2023-03-07T03:04:39.126Z"
   },
   {
    "duration": 499,
    "start_time": "2023-03-08T03:29:22.862Z"
   },
   {
    "duration": 8963,
    "start_time": "2023-03-08T03:29:23.363Z"
   },
   {
    "duration": 3,
    "start_time": "2023-03-08T03:29:32.327Z"
   },
   {
    "duration": 52,
    "start_time": "2023-03-08T03:29:32.331Z"
   },
   {
    "duration": 2,
    "start_time": "2023-03-08T03:29:32.385Z"
   },
   {
    "duration": 4,
    "start_time": "2023-03-08T03:29:32.388Z"
   },
   {
    "duration": 3,
    "start_time": "2023-03-08T03:29:32.393Z"
   },
   {
    "duration": 24,
    "start_time": "2023-03-08T03:29:32.397Z"
   },
   {
    "duration": 3,
    "start_time": "2023-03-08T03:29:32.422Z"
   },
   {
    "duration": 23,
    "start_time": "2023-03-08T03:29:32.426Z"
   },
   {
    "duration": 10,
    "start_time": "2023-03-08T03:29:32.450Z"
   },
   {
    "duration": 20,
    "start_time": "2023-03-08T03:29:32.461Z"
   },
   {
    "duration": 12,
    "start_time": "2023-03-08T03:29:32.482Z"
   },
   {
    "duration": 3,
    "start_time": "2023-03-08T03:29:32.496Z"
   },
   {
    "duration": 16,
    "start_time": "2023-03-08T03:29:32.501Z"
   }
  ],
  "kernelspec": {
   "display_name": "Python 3 (ipykernel)",
   "language": "python",
   "name": "python3"
  },
  "language_info": {
   "codemirror_mode": {
    "name": "ipython",
    "version": 3
   },
   "file_extension": ".py",
   "mimetype": "text/x-python",
   "name": "python",
   "nbconvert_exporter": "python",
   "pygments_lexer": "ipython3",
   "version": "3.10.9"
  },
  "toc": {
   "base_numbering": 1,
   "nav_menu": {},
   "number_sections": true,
   "sideBar": true,
   "skip_h1_title": true,
   "title_cell": "Table of Contents",
   "title_sidebar": "Contents",
   "toc_cell": false,
   "toc_position": {
    "height": "calc(100% - 180px)",
    "left": "10px",
    "top": "150px",
    "width": "366.188px"
   },
   "toc_section_display": true,
   "toc_window_display": true
  }
 },
 "nbformat": 4,
 "nbformat_minor": 5
}
